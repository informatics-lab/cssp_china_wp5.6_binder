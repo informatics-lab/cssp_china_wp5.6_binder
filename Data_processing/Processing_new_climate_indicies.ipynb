{
 "cells": [
  {
   "cell_type": "markdown",
   "id": "27063b03-416e-4f5a-abb2-c3307c5fc0fd",
   "metadata": {},
   "source": [
    "# Demonstration notebook for processing new climate indices \n",
    "\n",
    "* This example shows creation of the Circumglobal Teleconnection, defined in [Beverley, J.D., Woolnough, S.J., Baker, L.H. et al](https://link.springer.com/article/10.1007/s00382-018-4371-4#Sec1 )\n",
    "* We used the area 35–40N, 60–70E, using 200 hPa geopotental height to define the index "
   ]
  },
  {
   "cell_type": "code",
   "execution_count": 1,
   "id": "d81dab9d-6902-4923-8043-7f671dd119ae",
   "metadata": {},
   "outputs": [],
   "source": [
    "import iris \n",
    "import iris.coord_categorisation\n",
    "import iris.quickplot as qplt\n",
    "import matplotlib.pyplot as plt\n",
    "import iris.pandas\n",
    "import pandas as pd"
   ]
  },
  {
   "cell_type": "markdown",
   "id": "a5ee281b-2de7-4c68-bd8c-d9c53d8a7195",
   "metadata": {},
   "source": [
    "* Load in the required data, in this case monthly globally gridded ERA5 reanalysis from 1979 - 2019"
   ]
  },
  {
   "cell_type": "code",
   "execution_count": 38,
   "id": "4e57c619-9bff-4b4a-9b09-79d9eff1baf8",
   "metadata": {},
   "outputs": [],
   "source": [
    "indir = '/example/directory/to/load/data/from/'\n",
    "cube = iris.load_cube(f'{indir}ERA5_200hPa_geopot_monthly_1979_2019.nc')"
   ]
  },
  {
   "cell_type": "code",
   "execution_count": 39,
   "id": "675d8ab3-ffb3-4757-aaa1-cab6f4df1e4e",
   "metadata": {},
   "outputs": [
    {
     "data": {
      "text/html": [
       "\n",
       "<style>\n",
       "  a.iris {\n",
       "      text-decoration: none !important;\n",
       "  }\n",
       "  table.iris {\n",
       "      white-space: pre;\n",
       "      border: 1px solid;\n",
       "      border-color: #9c9c9c;\n",
       "      font-family: monaco, monospace;\n",
       "  }\n",
       "  th.iris {\n",
       "      background: #303f3f;\n",
       "      color: #e0e0e0;\n",
       "      border-left: 1px solid;\n",
       "      border-color: #9c9c9c;\n",
       "      font-size: 1.05em;\n",
       "      min-width: 50px;\n",
       "      max-width: 125px;\n",
       "  }\n",
       "  tr.iris :first-child {\n",
       "      border-right: 1px solid #9c9c9c !important;\n",
       "  }\n",
       "  td.iris-title {\n",
       "      background: #d5dcdf;\n",
       "      border-top: 1px solid #9c9c9c;\n",
       "      font-weight: bold;\n",
       "  }\n",
       "  .iris-word-cell {\n",
       "      text-align: left !important;\n",
       "      white-space: pre;\n",
       "  }\n",
       "  .iris-subheading-cell {\n",
       "      padding-left: 2em !important;\n",
       "  }\n",
       "  .iris-inclusion-cell {\n",
       "      padding-right: 1em !important;\n",
       "  }\n",
       "  .iris-panel-body {\n",
       "      padding-top: 0px;\n",
       "  }\n",
       "  .iris-panel-title {\n",
       "      padding-left: 3em;\n",
       "  }\n",
       "  .iris-panel-title {\n",
       "      margin-top: 7px;\n",
       "  }\n",
       "</style>\n",
       "<table class=\"iris\" id=\"140662937718160\">\n",
       "    <tr class=\"iris\">\n",
       "<th class=\"iris iris-word-cell\">Geopotential (m**2 s**-2)</th>\n",
       "<th class=\"iris iris-word-cell\">time</th>\n",
       "<th class=\"iris iris-word-cell\">latitude</th>\n",
       "<th class=\"iris iris-word-cell\">longitude</th>\n",
       "</tr>\n",
       "    <tr class=\"iris\">\n",
       "<td class=\"iris-word-cell iris-subheading-cell\">Shape</td>\n",
       "<td class=\"iris iris-inclusion-cell\">492</td>\n",
       "<td class=\"iris iris-inclusion-cell\">721</td>\n",
       "<td class=\"iris iris-inclusion-cell\">1440</td>\n",
       "</tr>\n",
       "    <tr class=\"iris\">\n",
       "    <td class=\"iris-title iris-word-cell\">Dimension coordinates</td>\n",
       "    <td class=\"iris-title\"></td>\n",
       "    <td class=\"iris-title\"></td>\n",
       "    <td class=\"iris-title\"></td>\n",
       "</tr>\n",
       "<tr class=\"iris\">\n",
       "    <td class=\"iris-word-cell iris-subheading-cell\">\ttime</td>\n",
       "    <td class=\"iris-inclusion-cell\">x</td>\n",
       "    <td class=\"iris-inclusion-cell\">-</td>\n",
       "    <td class=\"iris-inclusion-cell\">-</td>\n",
       "</tr>\n",
       "<tr class=\"iris\">\n",
       "    <td class=\"iris-word-cell iris-subheading-cell\">\tlatitude</td>\n",
       "    <td class=\"iris-inclusion-cell\">-</td>\n",
       "    <td class=\"iris-inclusion-cell\">x</td>\n",
       "    <td class=\"iris-inclusion-cell\">-</td>\n",
       "</tr>\n",
       "<tr class=\"iris\">\n",
       "    <td class=\"iris-word-cell iris-subheading-cell\">\tlongitude</td>\n",
       "    <td class=\"iris-inclusion-cell\">-</td>\n",
       "    <td class=\"iris-inclusion-cell\">-</td>\n",
       "    <td class=\"iris-inclusion-cell\">x</td>\n",
       "</tr>\n",
       "<tr class=\"iris\">\n",
       "    <td class=\"iris-title iris-word-cell\">Attributes</td>\n",
       "    <td class=\"iris-title\"></td>\n",
       "    <td class=\"iris-title\"></td>\n",
       "    <td class=\"iris-title\"><br>Conventions                 &#x27;CF-1.7&#x27;</td>\n",
       "</tr>\n",
       "</table>\n",
       "        "
      ],
      "text/plain": [
       "<iris 'Cube' of geopotential / (m**2 s**-2) (time: 492; latitude: 721; longitude: 1440)>"
      ]
     },
     "execution_count": 39,
     "metadata": {},
     "output_type": "execute_result"
    }
   ],
   "source": [
    "cube"
   ]
  },
  {
   "cell_type": "markdown",
   "id": "f1751a28-0604-4e14-9e37-d844279a33c6",
   "metadata": {},
   "source": [
    "* We need to add month and year coordinates to use later when creating a pandas data frame\n",
    "* Since we are using monthly data we don't need to perform any aggregation\n",
    "    * If we had hourly data, we could use these coordinates to calculate the monthly average \n"
   ]
  },
  {
   "cell_type": "code",
   "execution_count": 40,
   "id": "910a488a-6714-441d-8924-c86bcf44d582",
   "metadata": {},
   "outputs": [],
   "source": [
    "iris.coord_categorisation.add_month(cube, 'time', name='month')\n",
    "iris.coord_categorisation.add_year(cube, 'time', name='year')"
   ]
  },
  {
   "cell_type": "markdown",
   "id": "e1ab5c3f-462c-4e9d-8700-997e0d5d2ca5",
   "metadata": {},
   "source": [
    "* Create constraints on Latitude and Longitude to cut out our defined box "
   ]
  },
  {
   "cell_type": "code",
   "execution_count": 41,
   "id": "f0fac714-8f94-4259-a89a-34bb0b37ebe5",
   "metadata": {},
   "outputs": [],
   "source": [
    "lat_constraint = iris.Constraint(latitude=lambda cell: 35 < cell < 40)\n",
    "lon_constraint = iris.Constraint(longitude=lambda cell: 60 < cell < 70)"
   ]
  },
  {
   "cell_type": "markdown",
   "id": "87b04b88-d7e2-4c87-a744-997f01b98ca5",
   "metadata": {},
   "source": [
    "* Cut out the box using extract"
   ]
  },
  {
   "cell_type": "code",
   "execution_count": 42,
   "id": "d3b08778-99e1-436f-beca-0996e0e537e6",
   "metadata": {},
   "outputs": [],
   "source": [
    "cut_cube = cube.extract(lat_constraint & lon_constraint)"
   ]
  },
  {
   "cell_type": "markdown",
   "id": "027797e4-9a66-4598-bd52-1bbbc8fdc55f",
   "metadata": {},
   "source": [
    "* Collapasing the cube on latitude and longitude, taking the mean of all the points will give us a monthly index "
   ]
  },
  {
   "cell_type": "code",
   "execution_count": null,
   "id": "ac31354e-0e3d-44db-9cff-f3e432712af3",
   "metadata": {},
   "outputs": [],
   "source": [
    "collapsed_cube = cut_cube.collapsed(['latitude', 'longitude'], iris.analysis.MEAN)"
   ]
  },
  {
   "cell_type": "markdown",
   "id": "08793cb7-6306-49df-970b-22209a92a8e7",
   "metadata": {},
   "source": [
    "* Now we need to extract the data from the cube to put into a pandas data frame \n",
    "* Extracting points like this ensures we keep all the data in it's correct point \n",
    "* for the time coordinates, we can access them via coord and extract the data with points \n",
    "* for the data itself, we use .data.data ( as we have a masked array we need the second .data) \n",
    "* if you're unsure about these coordinates, print them and explore"
   ]
  },
  {
   "cell_type": "code",
   "execution_count": 44,
   "id": "a447cbe0-afff-49a6-883f-a5152354ef7e",
   "metadata": {},
   "outputs": [],
   "source": [
    "months = collapsed_cube.coord('month').points\n",
    "years = collapsed_cube.coord('year').points\n",
    "points = collapsed_cube.data.data\n"
   ]
  },
  {
   "cell_type": "markdown",
   "id": "c5eb3d48-ca0b-4823-82cf-5a9b3d5cf02a",
   "metadata": {},
   "source": [
    "* Create a data frame with the data "
   ]
  },
  {
   "cell_type": "code",
   "execution_count": 45,
   "id": "b6f38aeb-dd24-4ee7-9e64-c164da64516e",
   "metadata": {},
   "outputs": [],
   "source": [
    "df = pd.DataFrame(data = {'Year':years, 'Month':months,'Points':points})"
   ]
  },
  {
   "cell_type": "code",
   "execution_count": 46,
   "id": "bba28b48-5a56-4912-a7bb-d6b2b67177b4",
   "metadata": {},
   "outputs": [
    {
     "data": {
      "text/html": [
       "<div>\n",
       "<style scoped>\n",
       "    .dataframe tbody tr th:only-of-type {\n",
       "        vertical-align: middle;\n",
       "    }\n",
       "\n",
       "    .dataframe tbody tr th {\n",
       "        vertical-align: top;\n",
       "    }\n",
       "\n",
       "    .dataframe thead th {\n",
       "        text-align: right;\n",
       "    }\n",
       "</style>\n",
       "<table border=\"1\" class=\"dataframe\">\n",
       "  <thead>\n",
       "    <tr style=\"text-align: right;\">\n",
       "      <th></th>\n",
       "      <th>Year</th>\n",
       "      <th>Month</th>\n",
       "      <th>Points</th>\n",
       "    </tr>\n",
       "  </thead>\n",
       "  <tbody>\n",
       "    <tr>\n",
       "      <th>0</th>\n",
       "      <td>1979</td>\n",
       "      <td>Jan</td>\n",
       "      <td>114997.270940</td>\n",
       "    </tr>\n",
       "    <tr>\n",
       "      <th>1</th>\n",
       "      <td>1979</td>\n",
       "      <td>Feb</td>\n",
       "      <td>114661.797759</td>\n",
       "    </tr>\n",
       "    <tr>\n",
       "      <th>2</th>\n",
       "      <td>1979</td>\n",
       "      <td>Mar</td>\n",
       "      <td>115054.453251</td>\n",
       "    </tr>\n",
       "    <tr>\n",
       "      <th>3</th>\n",
       "      <td>1979</td>\n",
       "      <td>Apr</td>\n",
       "      <td>117742.850647</td>\n",
       "    </tr>\n",
       "    <tr>\n",
       "      <th>4</th>\n",
       "      <td>1979</td>\n",
       "      <td>May</td>\n",
       "      <td>117701.770035</td>\n",
       "    </tr>\n",
       "  </tbody>\n",
       "</table>\n",
       "</div>"
      ],
      "text/plain": [
       "   Year Month         Points\n",
       "0  1979   Jan  114997.270940\n",
       "1  1979   Feb  114661.797759\n",
       "2  1979   Mar  115054.453251\n",
       "3  1979   Apr  117742.850647\n",
       "4  1979   May  117701.770035"
      ]
     },
     "execution_count": 46,
     "metadata": {},
     "output_type": "execute_result"
    }
   ],
   "source": [
    "df.head()"
   ]
  },
  {
   "cell_type": "markdown",
   "id": "2a27f72e-e72b-44bc-b918-4bdf3c08985c",
   "metadata": {},
   "source": [
    "* Use pandas pivot function to create the correct format for our CSV, with the months in the column "
   ]
  },
  {
   "cell_type": "code",
   "execution_count": 47,
   "id": "0a9528f2-698c-481e-80d7-6550f927c597",
   "metadata": {},
   "outputs": [],
   "source": [
    "df = df.pivot(index = 'Year',\n",
    "                columns = 'Month',\n",
    "               values = 'Points')"
   ]
  },
  {
   "cell_type": "code",
   "execution_count": 48,
   "id": "772ab44d-ccf2-4a38-abaf-3680c5f78d50",
   "metadata": {},
   "outputs": [
    {
     "data": {
      "text/html": [
       "<div>\n",
       "<style scoped>\n",
       "    .dataframe tbody tr th:only-of-type {\n",
       "        vertical-align: middle;\n",
       "    }\n",
       "\n",
       "    .dataframe tbody tr th {\n",
       "        vertical-align: top;\n",
       "    }\n",
       "\n",
       "    .dataframe thead th {\n",
       "        text-align: right;\n",
       "    }\n",
       "</style>\n",
       "<table border=\"1\" class=\"dataframe\">\n",
       "  <thead>\n",
       "    <tr style=\"text-align: right;\">\n",
       "      <th>Month</th>\n",
       "      <th>Apr</th>\n",
       "      <th>Aug</th>\n",
       "      <th>Dec</th>\n",
       "      <th>Feb</th>\n",
       "      <th>Jan</th>\n",
       "      <th>Jul</th>\n",
       "      <th>Jun</th>\n",
       "      <th>Mar</th>\n",
       "      <th>May</th>\n",
       "      <th>Nov</th>\n",
       "      <th>Oct</th>\n",
       "      <th>Sep</th>\n",
       "    </tr>\n",
       "    <tr>\n",
       "      <th>Year</th>\n",
       "      <th></th>\n",
       "      <th></th>\n",
       "      <th></th>\n",
       "      <th></th>\n",
       "      <th></th>\n",
       "      <th></th>\n",
       "      <th></th>\n",
       "      <th></th>\n",
       "      <th></th>\n",
       "      <th></th>\n",
       "      <th></th>\n",
       "      <th></th>\n",
       "    </tr>\n",
       "  </thead>\n",
       "  <tbody>\n",
       "    <tr>\n",
       "      <th>1979</th>\n",
       "      <td>117742.850647</td>\n",
       "      <td>121681.137695</td>\n",
       "      <td>115301.421651</td>\n",
       "      <td>114661.797759</td>\n",
       "      <td>114997.270940</td>\n",
       "      <td>122762.550952</td>\n",
       "      <td>120696.675611</td>\n",
       "      <td>115054.453251</td>\n",
       "      <td>117701.770035</td>\n",
       "      <td>117278.408722</td>\n",
       "      <td>118655.836595</td>\n",
       "      <td>120231.592054</td>\n",
       "    </tr>\n",
       "    <tr>\n",
       "      <th>1980</th>\n",
       "      <td>117746.465225</td>\n",
       "      <td>121910.398931</td>\n",
       "      <td>115923.673333</td>\n",
       "      <td>114469.594254</td>\n",
       "      <td>114163.905184</td>\n",
       "      <td>122647.030719</td>\n",
       "      <td>121052.831603</td>\n",
       "      <td>115462.655867</td>\n",
       "      <td>118880.563282</td>\n",
       "      <td>117131.865154</td>\n",
       "      <td>117751.145726</td>\n",
       "      <td>120488.414539</td>\n",
       "    </tr>\n",
       "    <tr>\n",
       "      <th>1981</th>\n",
       "      <td>117575.032005</td>\n",
       "      <td>122033.976286</td>\n",
       "      <td>115345.139624</td>\n",
       "      <td>114771.442075</td>\n",
       "      <td>114852.133627</td>\n",
       "      <td>122218.095520</td>\n",
       "      <td>119970.663123</td>\n",
       "      <td>115796.117855</td>\n",
       "      <td>119085.582425</td>\n",
       "      <td>116725.613844</td>\n",
       "      <td>117641.392241</td>\n",
       "      <td>120350.223853</td>\n",
       "    </tr>\n",
       "    <tr>\n",
       "      <th>1982</th>\n",
       "      <td>117843.659482</td>\n",
       "      <td>122092.514551</td>\n",
       "      <td>115269.425163</td>\n",
       "      <td>113862.607426</td>\n",
       "      <td>114414.226326</td>\n",
       "      <td>121671.408199</td>\n",
       "      <td>120612.494470</td>\n",
       "      <td>115326.681755</td>\n",
       "      <td>118934.333514</td>\n",
       "      <td>116018.311873</td>\n",
       "      <td>117843.572742</td>\n",
       "      <td>119543.336719</td>\n",
       "    </tr>\n",
       "    <tr>\n",
       "      <th>1983</th>\n",
       "      <td>116767.578026</td>\n",
       "      <td>122868.742485</td>\n",
       "      <td>115220.480798</td>\n",
       "      <td>114613.495891</td>\n",
       "      <td>114928.142344</td>\n",
       "      <td>122209.777490</td>\n",
       "      <td>120453.353880</td>\n",
       "      <td>114857.950640</td>\n",
       "      <td>118958.452477</td>\n",
       "      <td>116965.540602</td>\n",
       "      <td>118625.079009</td>\n",
       "      <td>120850.555444</td>\n",
       "    </tr>\n",
       "  </tbody>\n",
       "</table>\n",
       "</div>"
      ],
      "text/plain": [
       "Month            Apr            Aug            Dec            Feb  \\\n",
       "Year                                                                \n",
       "1979   117742.850647  121681.137695  115301.421651  114661.797759   \n",
       "1980   117746.465225  121910.398931  115923.673333  114469.594254   \n",
       "1981   117575.032005  122033.976286  115345.139624  114771.442075   \n",
       "1982   117843.659482  122092.514551  115269.425163  113862.607426   \n",
       "1983   116767.578026  122868.742485  115220.480798  114613.495891   \n",
       "\n",
       "Month            Jan            Jul            Jun            Mar  \\\n",
       "Year                                                                \n",
       "1979   114997.270940  122762.550952  120696.675611  115054.453251   \n",
       "1980   114163.905184  122647.030719  121052.831603  115462.655867   \n",
       "1981   114852.133627  122218.095520  119970.663123  115796.117855   \n",
       "1982   114414.226326  121671.408199  120612.494470  115326.681755   \n",
       "1983   114928.142344  122209.777490  120453.353880  114857.950640   \n",
       "\n",
       "Month            May            Nov            Oct            Sep  \n",
       "Year                                                               \n",
       "1979   117701.770035  117278.408722  118655.836595  120231.592054  \n",
       "1980   118880.563282  117131.865154  117751.145726  120488.414539  \n",
       "1981   119085.582425  116725.613844  117641.392241  120350.223853  \n",
       "1982   118934.333514  116018.311873  117843.572742  119543.336719  \n",
       "1983   118958.452477  116965.540602  118625.079009  120850.555444  "
      ]
     },
     "execution_count": 48,
     "metadata": {},
     "output_type": "execute_result"
    }
   ],
   "source": [
    "df.head()"
   ]
  },
  {
   "cell_type": "markdown",
   "id": "e3adbe78-2ad5-440e-8617-1370d4cda7cd",
   "metadata": {},
   "source": [
    "* It looks awkward that April is the first in the dataframe so lets reorder  "
   ]
  },
  {
   "cell_type": "code",
   "execution_count": 49,
   "id": "7e614288-668b-4ad3-9fd7-f16e43b0a56f",
   "metadata": {},
   "outputs": [],
   "source": [
    "df = df[['Jan','Feb','Mar','Apr','May','Jun','Jul','Aug','Sep','Oct','Nov','Dec']]"
   ]
  },
  {
   "cell_type": "code",
   "execution_count": 50,
   "id": "98175e8c-4ac5-466a-8e53-7488e1da8c60",
   "metadata": {},
   "outputs": [
    {
     "data": {
      "text/html": [
       "<div>\n",
       "<style scoped>\n",
       "    .dataframe tbody tr th:only-of-type {\n",
       "        vertical-align: middle;\n",
       "    }\n",
       "\n",
       "    .dataframe tbody tr th {\n",
       "        vertical-align: top;\n",
       "    }\n",
       "\n",
       "    .dataframe thead th {\n",
       "        text-align: right;\n",
       "    }\n",
       "</style>\n",
       "<table border=\"1\" class=\"dataframe\">\n",
       "  <thead>\n",
       "    <tr style=\"text-align: right;\">\n",
       "      <th>Month</th>\n",
       "      <th>Jan</th>\n",
       "      <th>Feb</th>\n",
       "      <th>Mar</th>\n",
       "      <th>Apr</th>\n",
       "      <th>May</th>\n",
       "      <th>Jun</th>\n",
       "      <th>Jul</th>\n",
       "      <th>Aug</th>\n",
       "      <th>Sep</th>\n",
       "      <th>Oct</th>\n",
       "      <th>Nov</th>\n",
       "      <th>Dec</th>\n",
       "    </tr>\n",
       "    <tr>\n",
       "      <th>Year</th>\n",
       "      <th></th>\n",
       "      <th></th>\n",
       "      <th></th>\n",
       "      <th></th>\n",
       "      <th></th>\n",
       "      <th></th>\n",
       "      <th></th>\n",
       "      <th></th>\n",
       "      <th></th>\n",
       "      <th></th>\n",
       "      <th></th>\n",
       "      <th></th>\n",
       "    </tr>\n",
       "  </thead>\n",
       "  <tbody>\n",
       "    <tr>\n",
       "      <th>1979</th>\n",
       "      <td>114997.270940</td>\n",
       "      <td>114661.797759</td>\n",
       "      <td>115054.453251</td>\n",
       "      <td>117742.850647</td>\n",
       "      <td>117701.770035</td>\n",
       "      <td>120696.675611</td>\n",
       "      <td>122762.550952</td>\n",
       "      <td>121681.137695</td>\n",
       "      <td>120231.592054</td>\n",
       "      <td>118655.836595</td>\n",
       "      <td>117278.408722</td>\n",
       "      <td>115301.421651</td>\n",
       "    </tr>\n",
       "    <tr>\n",
       "      <th>1980</th>\n",
       "      <td>114163.905184</td>\n",
       "      <td>114469.594254</td>\n",
       "      <td>115462.655867</td>\n",
       "      <td>117746.465225</td>\n",
       "      <td>118880.563282</td>\n",
       "      <td>121052.831603</td>\n",
       "      <td>122647.030719</td>\n",
       "      <td>121910.398931</td>\n",
       "      <td>120488.414539</td>\n",
       "      <td>117751.145726</td>\n",
       "      <td>117131.865154</td>\n",
       "      <td>115923.673333</td>\n",
       "    </tr>\n",
       "    <tr>\n",
       "      <th>1981</th>\n",
       "      <td>114852.133627</td>\n",
       "      <td>114771.442075</td>\n",
       "      <td>115796.117855</td>\n",
       "      <td>117575.032005</td>\n",
       "      <td>119085.582425</td>\n",
       "      <td>119970.663123</td>\n",
       "      <td>122218.095520</td>\n",
       "      <td>122033.976286</td>\n",
       "      <td>120350.223853</td>\n",
       "      <td>117641.392241</td>\n",
       "      <td>116725.613844</td>\n",
       "      <td>115345.139624</td>\n",
       "    </tr>\n",
       "    <tr>\n",
       "      <th>1982</th>\n",
       "      <td>114414.226326</td>\n",
       "      <td>113862.607426</td>\n",
       "      <td>115326.681755</td>\n",
       "      <td>117843.659482</td>\n",
       "      <td>118934.333514</td>\n",
       "      <td>120612.494470</td>\n",
       "      <td>121671.408199</td>\n",
       "      <td>122092.514551</td>\n",
       "      <td>119543.336719</td>\n",
       "      <td>117843.572742</td>\n",
       "      <td>116018.311873</td>\n",
       "      <td>115269.425163</td>\n",
       "    </tr>\n",
       "    <tr>\n",
       "      <th>1983</th>\n",
       "      <td>114928.142344</td>\n",
       "      <td>114613.495891</td>\n",
       "      <td>114857.950640</td>\n",
       "      <td>116767.578026</td>\n",
       "      <td>118958.452477</td>\n",
       "      <td>120453.353880</td>\n",
       "      <td>122209.777490</td>\n",
       "      <td>122868.742485</td>\n",
       "      <td>120850.555444</td>\n",
       "      <td>118625.079009</td>\n",
       "      <td>116965.540602</td>\n",
       "      <td>115220.480798</td>\n",
       "    </tr>\n",
       "  </tbody>\n",
       "</table>\n",
       "</div>"
      ],
      "text/plain": [
       "Month            Jan            Feb            Mar            Apr  \\\n",
       "Year                                                                \n",
       "1979   114997.270940  114661.797759  115054.453251  117742.850647   \n",
       "1980   114163.905184  114469.594254  115462.655867  117746.465225   \n",
       "1981   114852.133627  114771.442075  115796.117855  117575.032005   \n",
       "1982   114414.226326  113862.607426  115326.681755  117843.659482   \n",
       "1983   114928.142344  114613.495891  114857.950640  116767.578026   \n",
       "\n",
       "Month            May            Jun            Jul            Aug  \\\n",
       "Year                                                                \n",
       "1979   117701.770035  120696.675611  122762.550952  121681.137695   \n",
       "1980   118880.563282  121052.831603  122647.030719  121910.398931   \n",
       "1981   119085.582425  119970.663123  122218.095520  122033.976286   \n",
       "1982   118934.333514  120612.494470  121671.408199  122092.514551   \n",
       "1983   118958.452477  120453.353880  122209.777490  122868.742485   \n",
       "\n",
       "Month            Sep            Oct            Nov            Dec  \n",
       "Year                                                               \n",
       "1979   120231.592054  118655.836595  117278.408722  115301.421651  \n",
       "1980   120488.414539  117751.145726  117131.865154  115923.673333  \n",
       "1981   120350.223853  117641.392241  116725.613844  115345.139624  \n",
       "1982   119543.336719  117843.572742  116018.311873  115269.425163  \n",
       "1983   120850.555444  118625.079009  116965.540602  115220.480798  "
      ]
     },
     "execution_count": 50,
     "metadata": {},
     "output_type": "execute_result"
    }
   ],
   "source": [
    "df.head()"
   ]
  },
  {
   "cell_type": "markdown",
   "id": "49896e01-c9de-43a0-b2fd-5d1b231ed630",
   "metadata": {},
   "source": [
    "* before we save, it's always useful to visualise the cutout region \n",
    "* we can visualise the coastlines and our cut out region to compare with the paper to check we have the correct place!"
   ]
  },
  {
   "cell_type": "code",
   "execution_count": 54,
   "id": "5fe93680-f1b7-45c0-8ea4-46ffd1fc99a5",
   "metadata": {},
   "outputs": [
    {
     "name": "stderr",
     "output_type": "stream",
     "text": [
      "/home/h06/ncreaser/.conda/envs/tigra_v5_pt2/lib/python3.10/site-packages/iris/coords.py:2045: UserWarning: Coordinate 'longitude' is not bounded, guessing contiguous bounds.\n",
      "  warnings.warn(\n",
      "/home/h06/ncreaser/.conda/envs/tigra_v5_pt2/lib/python3.10/site-packages/iris/coords.py:2045: UserWarning: Coordinate 'latitude' is not bounded, guessing contiguous bounds.\n",
      "  warnings.warn(\n"
     ]
    },
    {
     "data": {
      "text/plain": [
       "[<matplotlib.lines.Line2D at 0x7fee876795a0>]"
      ]
     },
     "execution_count": 54,
     "metadata": {},
     "output_type": "execute_result"
    },
    {
     "data": {
      "image/png": "[encoded data removed]",
      "text/plain": [
       "<Figure size 432x288 with 2 Axes>"
      ]
     },
     "metadata": {
      "needs_background": "light"
     },
     "output_type": "display_data"
    }
   ],
   "source": [
    "qplt.pcolormesh(cube[0])\n",
    "plt.gca().coastlines()\n",
    "plt.gca().plot([60,60,70,70,60],[35,40,40,35,35],'m')"
   ]
  },
  {
   "cell_type": "markdown",
   "id": "f0007715-f14b-40d7-b62b-38e94f6d5b7e",
   "metadata": {},
   "source": [
    "* Looks like we match the paper, let's save our index  \n",
    "* Commented out as they shouldn't be run on this binder instance !"
   ]
  },
  {
   "cell_type": "code",
   "execution_count": null,
   "id": "61672c4f-0be2-4e1b-b4ab-e302957eae8f",
   "metadata": {},
   "outputs": [],
   "source": [
    "#save_dir '/directory/to/save/your/data/"
   ]
  },
  {
   "cell_type": "code",
   "execution_count": null,
   "id": "01cf2d30-077b-414c-a4a3-6af6fddb75aa",
   "metadata": {},
   "outputs": [],
   "source": [
    "#df.to_csv(f'{save_dir}cgt_monthly_1979_2019.csv')"
   ]
  },
  {
   "cell_type": "code",
   "execution_count": null,
   "id": "5487cdc3-858c-4b7d-b7eb-c1571303a6c0",
   "metadata": {},
   "outputs": [],
   "source": []
  },
  {
   "cell_type": "code",
   "execution_count": null,
   "id": "bde38ae9-c306-4386-83fc-874c8d1b55f1",
   "metadata": {},
   "outputs": [],
   "source": []
  }
 ],
 "metadata": {
  "kernelspec": {
   "display_name": "tigra_v5_pt2",
   "language": "python",
   "name": "tigra_v5_pt2"
  },
  "language_info": {
   "codemirror_mode": {
    "name": "ipython",
    "version": 3
   },
   "file_extension": ".py",
   "mimetype": "text/x-python",
   "name": "python",
   "nbconvert_exporter": "python",
   "pygments_lexer": "ipython3",
   "version": "3.10.4"
  }
 },
 "nbformat": 4,
 "nbformat_minor": 5
}
