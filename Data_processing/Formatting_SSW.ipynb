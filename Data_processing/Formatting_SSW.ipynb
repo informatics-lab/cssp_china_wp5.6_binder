{
 "cells": [
  {
   "cell_type": "markdown",
   "id": "9599e3f5-4614-48b3-922f-7b6075bd9c87",
   "metadata": {},
   "source": [
    "# Formatting climate indicies to fit our code base \n",
    "\n",
    "* Climate Indexs from different places come in different formats \n",
    "* This code base assumes data is in a certain format \n",
    "* This notebook is an example of processing data to fit that template - this example is for Sudden Stratospheric Warming (SSW) events \n",
    "    * This data comes from Hauchecorne, Alain. (2021). ERA5 dataset for the categorization of Stratospheric Final Warming (Version 1). Zenodo. https://doi.org/10.5281/zenodo.5744919\n",
    "* Downloaded data needs to be inspected and processed manually before adding into the analysis "
   ]
  },
  {
   "cell_type": "code",
   "execution_count": 3,
   "id": "c8f20375-2333-41fb-9101-0555a3d4830a",
   "metadata": {},
   "outputs": [],
   "source": [
    "import h5py\n",
    "import pandas as pd \n",
    "import datetime \n",
    "from datetime import date, timedelta "
   ]
  },
  {
   "cell_type": "markdown",
   "id": "4a35ec19-b3a9-4900-ac9b-91ffd73246db",
   "metadata": {},
   "source": [
    "* This data is in the he5 format, we want to produce a CSV using this data "
   ]
  },
  {
   "cell_type": "code",
   "execution_count": 4,
   "id": "a271a289-de2c-42e4-9631-2c695466daf5",
   "metadata": {},
   "outputs": [],
   "source": [
    "indir = '/example/data/dir/'\n",
    "filename = f'{}Stratospheric_Final_Warming_data.he5'"
   ]
  },
  {
   "cell_type": "markdown",
   "id": "abecd2fb-e2dc-430d-a15f-ede4f7521eb9",
   "metadata": {},
   "source": [
    "* Lets open this and see what we are dealing with "
   ]
  },
  {
   "cell_type": "code",
   "execution_count": 5,
   "id": "d414b4c4-037a-496f-a766-531a81bbf8de",
   "metadata": {},
   "outputs": [
    {
     "name": "stdout",
     "output_type": "stream",
     "text": [
      "<KeysViewHDF5 ['HDF5_data']>\n",
      "<KeysViewHDF5 ['HFlux', 'Tpole', 'U60N', 'Z1_60N']>\n"
     ]
    }
   ],
   "source": [
    "with h5py.File(filename, \"r\") as f:\n",
    "    print(f.keys())\n",
    "    group_key = list(f.keys())[0]\n",
    "    data = f[group_key]\n",
    "    print(data.keys())\n",
    "    U60N = data['U60N'][()]\n",
    "    HFlux = data['HFlux'][()]\n",
    "    Tpole = data['Tpole'][()]\n",
    "    Z1_60N = data['Z1_60N'][()]"
   ]
  },
  {
   "cell_type": "markdown",
   "id": "99caa32f-fa34-4f70-a46b-62909bd1dc7c",
   "metadata": {},
   "source": [
    "* We have 4 varibles associated with this file \n",
    "* The U60N is the U wind at 60N and 10hPa which we are interested in \n",
    "* I'll add all data into a dataframe first, as all data has the same shape it's a sanity check\n",
    "    * We can also print the shapes"
   ]
  },
  {
   "cell_type": "code",
   "execution_count": 6,
   "id": "5f0319f5-528d-462b-8e8d-32744f51020d",
   "metadata": {},
   "outputs": [
    {
     "data": {
      "text/plain": [
       "((25933,), (25933,), (25933,), (25933,))"
      ]
     },
     "execution_count": 6,
     "metadata": {},
     "output_type": "execute_result"
    }
   ],
   "source": [
    "U60N.shape , HFlux.shape, Tpole.shape, Z1_60N.shape"
   ]
  },
  {
   "cell_type": "markdown",
   "id": "9d7cf6f1-6138-4e64-82b5-9e5f5365895a",
   "metadata": {},
   "source": [
    "* An issue we have is this data doesn't have time stamps associated, so we will need to add these  "
   ]
  },
  {
   "cell_type": "code",
   "execution_count": 7,
   "id": "0423e731-71f1-43be-b163-440ff8888977",
   "metadata": {},
   "outputs": [],
   "source": [
    "sdate = date(1950,1,1)   # start date\n",
    "edate = date(2021,1,1)   # end date "
   ]
  },
  {
   "cell_type": "markdown",
   "id": "5221127e-654f-4420-a826-c934ab36191e",
   "metadata": {},
   "source": [
    "* start and end dates as defined in the data repo\n",
    "* we can now use pandas to create ourselves a datetime index "
   ]
  },
  {
   "cell_type": "code",
   "execution_count": 8,
   "id": "6a213d97-b0bc-4355-ba09-811ffd8c9039",
   "metadata": {},
   "outputs": [
    {
     "data": {
      "text/plain": [
       "DatetimeIndex(['1950-01-01', '1950-01-02', '1950-01-03', '1950-01-04',\n",
       "               '1950-01-05', '1950-01-06', '1950-01-07', '1950-01-08',\n",
       "               '1950-01-09', '1950-01-10',\n",
       "               ...\n",
       "               '2020-12-22', '2020-12-23', '2020-12-24', '2020-12-25',\n",
       "               '2020-12-26', '2020-12-27', '2020-12-28', '2020-12-29',\n",
       "               '2020-12-30', '2020-12-31'],\n",
       "              dtype='datetime64[ns]', length=25933, freq='D')"
      ]
     },
     "execution_count": 8,
     "metadata": {},
     "output_type": "execute_result"
    }
   ],
   "source": [
    "pd.date_range(sdate,edate-timedelta(days=1),freq='d')"
   ]
  },
  {
   "cell_type": "markdown",
   "id": "b36ce1fd-c98b-413b-ab2c-19041dadb87d",
   "metadata": {},
   "source": [
    "* we can now create our dataframe "
   ]
  },
  {
   "cell_type": "code",
   "execution_count": 9,
   "id": "75e9950f-7fac-4b70-89bb-89c032ea983c",
   "metadata": {},
   "outputs": [],
   "source": [
    "df = pd.DataFrame({'U60N':U60N,\n",
    "              'HFlux':HFlux,\n",
    "              'Tpole':Tpole,\n",
    "              'Z1_60N':Z1_60N,\n",
    "                'Date':pd.date_range(sdate,edate-timedelta(days=1),freq='d')\n",
    "             })"
   ]
  },
  {
   "cell_type": "code",
   "execution_count": 10,
   "id": "7f8231c2-2f19-4362-a764-fb9a7be66d92",
   "metadata": {},
   "outputs": [
    {
     "data": {
      "text/html": [
       "<div>\n",
       "<style scoped>\n",
       "    .dataframe tbody tr th:only-of-type {\n",
       "        vertical-align: middle;\n",
       "    }\n",
       "\n",
       "    .dataframe tbody tr th {\n",
       "        vertical-align: top;\n",
       "    }\n",
       "\n",
       "    .dataframe thead th {\n",
       "        text-align: right;\n",
       "    }\n",
       "</style>\n",
       "<table border=\"1\" class=\"dataframe\">\n",
       "  <thead>\n",
       "    <tr style=\"text-align: right;\">\n",
       "      <th></th>\n",
       "      <th>U60N</th>\n",
       "      <th>HFlux</th>\n",
       "      <th>Tpole</th>\n",
       "      <th>Z1_60N</th>\n",
       "      <th>Date</th>\n",
       "    </tr>\n",
       "  </thead>\n",
       "  <tbody>\n",
       "    <tr>\n",
       "      <th>0</th>\n",
       "      <td>17.525972</td>\n",
       "      <td>5.271371</td>\n",
       "      <td>211.642372</td>\n",
       "      <td>326.567664</td>\n",
       "      <td>1950-01-01</td>\n",
       "    </tr>\n",
       "    <tr>\n",
       "      <th>1</th>\n",
       "      <td>19.777361</td>\n",
       "      <td>8.618020</td>\n",
       "      <td>211.315850</td>\n",
       "      <td>280.259097</td>\n",
       "      <td>1950-01-02</td>\n",
       "    </tr>\n",
       "    <tr>\n",
       "      <th>2</th>\n",
       "      <td>20.784653</td>\n",
       "      <td>15.365684</td>\n",
       "      <td>210.199111</td>\n",
       "      <td>195.846716</td>\n",
       "      <td>1950-01-03</td>\n",
       "    </tr>\n",
       "    <tr>\n",
       "      <th>3</th>\n",
       "      <td>22.356251</td>\n",
       "      <td>2.391595</td>\n",
       "      <td>208.343646</td>\n",
       "      <td>156.116303</td>\n",
       "      <td>1950-01-04</td>\n",
       "    </tr>\n",
       "    <tr>\n",
       "      <th>4</th>\n",
       "      <td>23.118334</td>\n",
       "      <td>-4.185827</td>\n",
       "      <td>206.620259</td>\n",
       "      <td>151.006890</td>\n",
       "      <td>1950-01-05</td>\n",
       "    </tr>\n",
       "  </tbody>\n",
       "</table>\n",
       "</div>"
      ],
      "text/plain": [
       "        U60N      HFlux       Tpole      Z1_60N       Date\n",
       "0  17.525972   5.271371  211.642372  326.567664 1950-01-01\n",
       "1  19.777361   8.618020  211.315850  280.259097 1950-01-02\n",
       "2  20.784653  15.365684  210.199111  195.846716 1950-01-03\n",
       "3  22.356251   2.391595  208.343646  156.116303 1950-01-04\n",
       "4  23.118334  -4.185827  206.620259  151.006890 1950-01-05"
      ]
     },
     "execution_count": 10,
     "metadata": {},
     "output_type": "execute_result"
    }
   ],
   "source": [
    "df.head()"
   ]
  },
  {
   "cell_type": "code",
   "execution_count": 11,
   "id": "377f5979-5220-4544-a9f3-30d2c15d20ab",
   "metadata": {},
   "outputs": [],
   "source": [
    "df.set_index('Date', inplace = True)"
   ]
  },
  {
   "cell_type": "code",
   "execution_count": 12,
   "id": "f664060c-8bb1-4fab-8b91-904a352c1163",
   "metadata": {},
   "outputs": [
    {
     "data": {
      "text/html": [
       "<div>\n",
       "<style scoped>\n",
       "    .dataframe tbody tr th:only-of-type {\n",
       "        vertical-align: middle;\n",
       "    }\n",
       "\n",
       "    .dataframe tbody tr th {\n",
       "        vertical-align: top;\n",
       "    }\n",
       "\n",
       "    .dataframe thead th {\n",
       "        text-align: right;\n",
       "    }\n",
       "</style>\n",
       "<table border=\"1\" class=\"dataframe\">\n",
       "  <thead>\n",
       "    <tr style=\"text-align: right;\">\n",
       "      <th></th>\n",
       "      <th>U60N</th>\n",
       "      <th>HFlux</th>\n",
       "      <th>Tpole</th>\n",
       "      <th>Z1_60N</th>\n",
       "    </tr>\n",
       "    <tr>\n",
       "      <th>Date</th>\n",
       "      <th></th>\n",
       "      <th></th>\n",
       "      <th></th>\n",
       "      <th></th>\n",
       "    </tr>\n",
       "  </thead>\n",
       "  <tbody>\n",
       "    <tr>\n",
       "      <th>1950-01-01</th>\n",
       "      <td>17.525972</td>\n",
       "      <td>5.271371</td>\n",
       "      <td>211.642372</td>\n",
       "      <td>326.567664</td>\n",
       "    </tr>\n",
       "    <tr>\n",
       "      <th>1950-01-02</th>\n",
       "      <td>19.777361</td>\n",
       "      <td>8.618020</td>\n",
       "      <td>211.315850</td>\n",
       "      <td>280.259097</td>\n",
       "    </tr>\n",
       "    <tr>\n",
       "      <th>1950-01-03</th>\n",
       "      <td>20.784653</td>\n",
       "      <td>15.365684</td>\n",
       "      <td>210.199111</td>\n",
       "      <td>195.846716</td>\n",
       "    </tr>\n",
       "    <tr>\n",
       "      <th>1950-01-04</th>\n",
       "      <td>22.356251</td>\n",
       "      <td>2.391595</td>\n",
       "      <td>208.343646</td>\n",
       "      <td>156.116303</td>\n",
       "    </tr>\n",
       "    <tr>\n",
       "      <th>1950-01-05</th>\n",
       "      <td>23.118334</td>\n",
       "      <td>-4.185827</td>\n",
       "      <td>206.620259</td>\n",
       "      <td>151.006890</td>\n",
       "    </tr>\n",
       "  </tbody>\n",
       "</table>\n",
       "</div>"
      ],
      "text/plain": [
       "                 U60N      HFlux       Tpole      Z1_60N\n",
       "Date                                                    \n",
       "1950-01-01  17.525972   5.271371  211.642372  326.567664\n",
       "1950-01-02  19.777361   8.618020  211.315850  280.259097\n",
       "1950-01-03  20.784653  15.365684  210.199111  195.846716\n",
       "1950-01-04  22.356251   2.391595  208.343646  156.116303\n",
       "1950-01-05  23.118334  -4.185827  206.620259  151.006890"
      ]
     },
     "execution_count": 12,
     "metadata": {},
     "output_type": "execute_result"
    }
   ],
   "source": [
    "df.head()"
   ]
  },
  {
   "cell_type": "markdown",
   "id": "3a885edb-5a84-4d2b-b9d8-608500c5fd8b",
   "metadata": {},
   "source": [
    "* We have daily data, so we need to use pandas groupby and take a mean  "
   ]
  },
  {
   "cell_type": "code",
   "execution_count": 13,
   "id": "0543d0cf-58d5-4cc7-b2c7-ab87c05936fb",
   "metadata": {},
   "outputs": [],
   "source": [
    "df_monthly_mean = df.groupby(pd.PeriodIndex(df.index, freq=\"M\")).mean()"
   ]
  },
  {
   "cell_type": "code",
   "execution_count": 14,
   "id": "e75a00c0-6429-493f-9145-71e271f11342",
   "metadata": {},
   "outputs": [
    {
     "data": {
      "text/html": [
       "<div>\n",
       "<style scoped>\n",
       "    .dataframe tbody tr th:only-of-type {\n",
       "        vertical-align: middle;\n",
       "    }\n",
       "\n",
       "    .dataframe tbody tr th {\n",
       "        vertical-align: top;\n",
       "    }\n",
       "\n",
       "    .dataframe thead th {\n",
       "        text-align: right;\n",
       "    }\n",
       "</style>\n",
       "<table border=\"1\" class=\"dataframe\">\n",
       "  <thead>\n",
       "    <tr style=\"text-align: right;\">\n",
       "      <th></th>\n",
       "      <th>U60N</th>\n",
       "      <th>HFlux</th>\n",
       "      <th>Tpole</th>\n",
       "      <th>Z1_60N</th>\n",
       "    </tr>\n",
       "    <tr>\n",
       "      <th>Date</th>\n",
       "      <th></th>\n",
       "      <th></th>\n",
       "      <th></th>\n",
       "      <th></th>\n",
       "    </tr>\n",
       "  </thead>\n",
       "  <tbody>\n",
       "    <tr>\n",
       "      <th>1950-01</th>\n",
       "      <td>30.861825</td>\n",
       "      <td>53.635743</td>\n",
       "      <td>205.543982</td>\n",
       "      <td>250.457566</td>\n",
       "    </tr>\n",
       "    <tr>\n",
       "      <th>1950-02</th>\n",
       "      <td>38.451986</td>\n",
       "      <td>99.817699</td>\n",
       "      <td>206.807619</td>\n",
       "      <td>681.824895</td>\n",
       "    </tr>\n",
       "    <tr>\n",
       "      <th>1950-03</th>\n",
       "      <td>5.489621</td>\n",
       "      <td>35.583926</td>\n",
       "      <td>226.713104</td>\n",
       "      <td>539.618329</td>\n",
       "    </tr>\n",
       "    <tr>\n",
       "      <th>1950-04</th>\n",
       "      <td>-5.098322</td>\n",
       "      <td>5.772435</td>\n",
       "      <td>227.533828</td>\n",
       "      <td>131.814979</td>\n",
       "    </tr>\n",
       "    <tr>\n",
       "      <th>1950-05</th>\n",
       "      <td>-4.832007</td>\n",
       "      <td>0.602856</td>\n",
       "      <td>230.276704</td>\n",
       "      <td>62.952333</td>\n",
       "    </tr>\n",
       "  </tbody>\n",
       "</table>\n",
       "</div>"
      ],
      "text/plain": [
       "              U60N      HFlux       Tpole      Z1_60N\n",
       "Date                                                 \n",
       "1950-01  30.861825  53.635743  205.543982  250.457566\n",
       "1950-02  38.451986  99.817699  206.807619  681.824895\n",
       "1950-03   5.489621  35.583926  226.713104  539.618329\n",
       "1950-04  -5.098322   5.772435  227.533828  131.814979\n",
       "1950-05  -4.832007   0.602856  230.276704   62.952333"
      ]
     },
     "execution_count": 14,
     "metadata": {},
     "output_type": "execute_result"
    }
   ],
   "source": [
    "df_monthly_mean.head()"
   ]
  },
  {
   "cell_type": "markdown",
   "id": "306951f8-8888-449e-81dd-5232e4a734fc",
   "metadata": {},
   "source": [
    "* Now lets add the year and month as their own columns "
   ]
  },
  {
   "cell_type": "code",
   "execution_count": 17,
   "id": "4dad97d2-ff45-4c37-80dd-247dc252ecb7",
   "metadata": {},
   "outputs": [],
   "source": [
    "df_monthly_mean['Month'] = df_monthly_mean.index.month\n",
    "df_monthly_mean['Year'] = df_monthly_mean.index.year"
   ]
  },
  {
   "cell_type": "code",
   "execution_count": 18,
   "id": "2d1deafe-131f-4a72-ac74-05d6fd8d6ffd",
   "metadata": {},
   "outputs": [
    {
     "data": {
      "text/html": [
       "<div>\n",
       "<style scoped>\n",
       "    .dataframe tbody tr th:only-of-type {\n",
       "        vertical-align: middle;\n",
       "    }\n",
       "\n",
       "    .dataframe tbody tr th {\n",
       "        vertical-align: top;\n",
       "    }\n",
       "\n",
       "    .dataframe thead th {\n",
       "        text-align: right;\n",
       "    }\n",
       "</style>\n",
       "<table border=\"1\" class=\"dataframe\">\n",
       "  <thead>\n",
       "    <tr style=\"text-align: right;\">\n",
       "      <th></th>\n",
       "      <th>U60N</th>\n",
       "      <th>HFlux</th>\n",
       "      <th>Tpole</th>\n",
       "      <th>Z1_60N</th>\n",
       "      <th>Month</th>\n",
       "      <th>Year</th>\n",
       "    </tr>\n",
       "    <tr>\n",
       "      <th>Date</th>\n",
       "      <th></th>\n",
       "      <th></th>\n",
       "      <th></th>\n",
       "      <th></th>\n",
       "      <th></th>\n",
       "      <th></th>\n",
       "    </tr>\n",
       "  </thead>\n",
       "  <tbody>\n",
       "    <tr>\n",
       "      <th>1950-01</th>\n",
       "      <td>30.861825</td>\n",
       "      <td>53.635743</td>\n",
       "      <td>205.543982</td>\n",
       "      <td>250.457566</td>\n",
       "      <td>1</td>\n",
       "      <td>1950</td>\n",
       "    </tr>\n",
       "    <tr>\n",
       "      <th>1950-02</th>\n",
       "      <td>38.451986</td>\n",
       "      <td>99.817699</td>\n",
       "      <td>206.807619</td>\n",
       "      <td>681.824895</td>\n",
       "      <td>2</td>\n",
       "      <td>1950</td>\n",
       "    </tr>\n",
       "    <tr>\n",
       "      <th>1950-03</th>\n",
       "      <td>5.489621</td>\n",
       "      <td>35.583926</td>\n",
       "      <td>226.713104</td>\n",
       "      <td>539.618329</td>\n",
       "      <td>3</td>\n",
       "      <td>1950</td>\n",
       "    </tr>\n",
       "    <tr>\n",
       "      <th>1950-04</th>\n",
       "      <td>-5.098322</td>\n",
       "      <td>5.772435</td>\n",
       "      <td>227.533828</td>\n",
       "      <td>131.814979</td>\n",
       "      <td>4</td>\n",
       "      <td>1950</td>\n",
       "    </tr>\n",
       "    <tr>\n",
       "      <th>1950-05</th>\n",
       "      <td>-4.832007</td>\n",
       "      <td>0.602856</td>\n",
       "      <td>230.276704</td>\n",
       "      <td>62.952333</td>\n",
       "      <td>5</td>\n",
       "      <td>1950</td>\n",
       "    </tr>\n",
       "  </tbody>\n",
       "</table>\n",
       "</div>"
      ],
      "text/plain": [
       "              U60N      HFlux       Tpole      Z1_60N  Month  Year\n",
       "Date                                                              \n",
       "1950-01  30.861825  53.635743  205.543982  250.457566      1  1950\n",
       "1950-02  38.451986  99.817699  206.807619  681.824895      2  1950\n",
       "1950-03   5.489621  35.583926  226.713104  539.618329      3  1950\n",
       "1950-04  -5.098322   5.772435  227.533828  131.814979      4  1950\n",
       "1950-05  -4.832007   0.602856  230.276704   62.952333      5  1950"
      ]
     },
     "execution_count": 18,
     "metadata": {},
     "output_type": "execute_result"
    }
   ],
   "source": [
    "df_monthly_mean.head()"
   ]
  },
  {
   "cell_type": "markdown",
   "id": "6d269846-a35a-4d91-94ea-f16bd3317c69",
   "metadata": {},
   "source": [
    "* We require months to be written as a string, let's create a dictonary for this  "
   ]
  },
  {
   "cell_type": "code",
   "execution_count": 19,
   "id": "79027d1b-def0-47d1-b433-cf4223bd8bec",
   "metadata": {},
   "outputs": [],
   "source": [
    "num_to_month = {1:'Jan',\n",
    "               2:'Feb',\n",
    "               3:'Mar',\n",
    "               4:'Apr',\n",
    "               5:'May',\n",
    "               6:'Jun',\n",
    "               7:'Jul',\n",
    "               8:'Aug',\n",
    "               9:'Sep',\n",
    "               10:'Oct',\n",
    "               11:'Nov',\n",
    "               12:'Dec'}"
   ]
  },
  {
   "cell_type": "code",
   "execution_count": 21,
   "id": "bb5ea5ec-bc52-4832-8874-1dcca991670f",
   "metadata": {},
   "outputs": [],
   "source": [
    "df_monthly_mean.replace({'Month':num_to_month}, inplace=True) # replace the values with the month "
   ]
  },
  {
   "cell_type": "code",
   "execution_count": 24,
   "id": "13ca5fd8-d65d-4782-8297-1fc900440b51",
   "metadata": {},
   "outputs": [
    {
     "data": {
      "text/html": [
       "<div>\n",
       "<style scoped>\n",
       "    .dataframe tbody tr th:only-of-type {\n",
       "        vertical-align: middle;\n",
       "    }\n",
       "\n",
       "    .dataframe tbody tr th {\n",
       "        vertical-align: top;\n",
       "    }\n",
       "\n",
       "    .dataframe thead th {\n",
       "        text-align: right;\n",
       "    }\n",
       "</style>\n",
       "<table border=\"1\" class=\"dataframe\">\n",
       "  <thead>\n",
       "    <tr style=\"text-align: right;\">\n",
       "      <th></th>\n",
       "      <th>U60N</th>\n",
       "      <th>HFlux</th>\n",
       "      <th>Tpole</th>\n",
       "      <th>Z1_60N</th>\n",
       "      <th>Month</th>\n",
       "      <th>Year</th>\n",
       "    </tr>\n",
       "    <tr>\n",
       "      <th>Date</th>\n",
       "      <th></th>\n",
       "      <th></th>\n",
       "      <th></th>\n",
       "      <th></th>\n",
       "      <th></th>\n",
       "      <th></th>\n",
       "    </tr>\n",
       "  </thead>\n",
       "  <tbody>\n",
       "    <tr>\n",
       "      <th>1950-01</th>\n",
       "      <td>30.861825</td>\n",
       "      <td>53.635743</td>\n",
       "      <td>205.543982</td>\n",
       "      <td>250.457566</td>\n",
       "      <td>Jan</td>\n",
       "      <td>1950</td>\n",
       "    </tr>\n",
       "    <tr>\n",
       "      <th>1950-02</th>\n",
       "      <td>38.451986</td>\n",
       "      <td>99.817699</td>\n",
       "      <td>206.807619</td>\n",
       "      <td>681.824895</td>\n",
       "      <td>Feb</td>\n",
       "      <td>1950</td>\n",
       "    </tr>\n",
       "    <tr>\n",
       "      <th>1950-03</th>\n",
       "      <td>5.489621</td>\n",
       "      <td>35.583926</td>\n",
       "      <td>226.713104</td>\n",
       "      <td>539.618329</td>\n",
       "      <td>Mar</td>\n",
       "      <td>1950</td>\n",
       "    </tr>\n",
       "    <tr>\n",
       "      <th>1950-04</th>\n",
       "      <td>-5.098322</td>\n",
       "      <td>5.772435</td>\n",
       "      <td>227.533828</td>\n",
       "      <td>131.814979</td>\n",
       "      <td>Apr</td>\n",
       "      <td>1950</td>\n",
       "    </tr>\n",
       "    <tr>\n",
       "      <th>1950-05</th>\n",
       "      <td>-4.832007</td>\n",
       "      <td>0.602856</td>\n",
       "      <td>230.276704</td>\n",
       "      <td>62.952333</td>\n",
       "      <td>May</td>\n",
       "      <td>1950</td>\n",
       "    </tr>\n",
       "  </tbody>\n",
       "</table>\n",
       "</div>"
      ],
      "text/plain": [
       "              U60N      HFlux       Tpole      Z1_60N Month  Year\n",
       "Date                                                             \n",
       "1950-01  30.861825  53.635743  205.543982  250.457566   Jan  1950\n",
       "1950-02  38.451986  99.817699  206.807619  681.824895   Feb  1950\n",
       "1950-03   5.489621  35.583926  226.713104  539.618329   Mar  1950\n",
       "1950-04  -5.098322   5.772435  227.533828  131.814979   Apr  1950\n",
       "1950-05  -4.832007   0.602856  230.276704   62.952333   May  1950"
      ]
     },
     "execution_count": 24,
     "metadata": {},
     "output_type": "execute_result"
    }
   ],
   "source": [
    "df_monthly_mean.head()"
   ]
  },
  {
   "cell_type": "markdown",
   "id": "368c97fc-2004-4604-ac00-1b8c5e623964",
   "metadata": {},
   "source": [
    "* Let's drop the stuff we don't need "
   ]
  },
  {
   "cell_type": "code",
   "execution_count": 28,
   "id": "181cc7fb-87cf-4a55-9c37-f24e6b0b7722",
   "metadata": {},
   "outputs": [],
   "source": [
    "df_monthly_mean.drop(['HFlux','Tpole','Z1_60N'],axis=1, inplace=True)"
   ]
  },
  {
   "cell_type": "code",
   "execution_count": 29,
   "id": "f49461bd-b79a-4a0b-91e2-ca6cec43f38d",
   "metadata": {},
   "outputs": [
    {
     "data": {
      "text/html": [
       "<div>\n",
       "<style scoped>\n",
       "    .dataframe tbody tr th:only-of-type {\n",
       "        vertical-align: middle;\n",
       "    }\n",
       "\n",
       "    .dataframe tbody tr th {\n",
       "        vertical-align: top;\n",
       "    }\n",
       "\n",
       "    .dataframe thead th {\n",
       "        text-align: right;\n",
       "    }\n",
       "</style>\n",
       "<table border=\"1\" class=\"dataframe\">\n",
       "  <thead>\n",
       "    <tr style=\"text-align: right;\">\n",
       "      <th></th>\n",
       "      <th>U60N</th>\n",
       "      <th>Month</th>\n",
       "      <th>Year</th>\n",
       "    </tr>\n",
       "    <tr>\n",
       "      <th>Date</th>\n",
       "      <th></th>\n",
       "      <th></th>\n",
       "      <th></th>\n",
       "    </tr>\n",
       "  </thead>\n",
       "  <tbody>\n",
       "    <tr>\n",
       "      <th>1950-01</th>\n",
       "      <td>30.861825</td>\n",
       "      <td>Jan</td>\n",
       "      <td>1950</td>\n",
       "    </tr>\n",
       "    <tr>\n",
       "      <th>1950-02</th>\n",
       "      <td>38.451986</td>\n",
       "      <td>Feb</td>\n",
       "      <td>1950</td>\n",
       "    </tr>\n",
       "    <tr>\n",
       "      <th>1950-03</th>\n",
       "      <td>5.489621</td>\n",
       "      <td>Mar</td>\n",
       "      <td>1950</td>\n",
       "    </tr>\n",
       "    <tr>\n",
       "      <th>1950-04</th>\n",
       "      <td>-5.098322</td>\n",
       "      <td>Apr</td>\n",
       "      <td>1950</td>\n",
       "    </tr>\n",
       "    <tr>\n",
       "      <th>1950-05</th>\n",
       "      <td>-4.832007</td>\n",
       "      <td>May</td>\n",
       "      <td>1950</td>\n",
       "    </tr>\n",
       "  </tbody>\n",
       "</table>\n",
       "</div>"
      ],
      "text/plain": [
       "              U60N Month  Year\n",
       "Date                          \n",
       "1950-01  30.861825   Jan  1950\n",
       "1950-02  38.451986   Feb  1950\n",
       "1950-03   5.489621   Mar  1950\n",
       "1950-04  -5.098322   Apr  1950\n",
       "1950-05  -4.832007   May  1950"
      ]
     },
     "execution_count": 29,
     "metadata": {},
     "output_type": "execute_result"
    }
   ],
   "source": [
    "df_monthly_mean.head()"
   ]
  },
  {
   "cell_type": "markdown",
   "id": "a2c751b7-0a3f-4822-a4e6-c0ff327bfa2c",
   "metadata": {},
   "source": [
    "* Use the pivot function to have months as the column headers"
   ]
  },
  {
   "cell_type": "code",
   "execution_count": 30,
   "id": "02d400b1-e75d-4b76-b7fc-723a7c352208",
   "metadata": {},
   "outputs": [],
   "source": [
    "df_monthly_mean = df_monthly_mean.pivot(index = 'Year',\n",
    "                                        columns = 'Month',\n",
    "                                        values = 'U60N')"
   ]
  },
  {
   "cell_type": "code",
   "execution_count": 31,
   "id": "345dad45-d13c-4eb3-9b08-4cda40b2ec1a",
   "metadata": {},
   "outputs": [
    {
     "data": {
      "text/html": [
       "<div>\n",
       "<style scoped>\n",
       "    .dataframe tbody tr th:only-of-type {\n",
       "        vertical-align: middle;\n",
       "    }\n",
       "\n",
       "    .dataframe tbody tr th {\n",
       "        vertical-align: top;\n",
       "    }\n",
       "\n",
       "    .dataframe thead th {\n",
       "        text-align: right;\n",
       "    }\n",
       "</style>\n",
       "<table border=\"1\" class=\"dataframe\">\n",
       "  <thead>\n",
       "    <tr style=\"text-align: right;\">\n",
       "      <th>Month</th>\n",
       "      <th>Apr</th>\n",
       "      <th>Aug</th>\n",
       "      <th>Dec</th>\n",
       "      <th>Feb</th>\n",
       "      <th>Jan</th>\n",
       "      <th>Jul</th>\n",
       "      <th>Jun</th>\n",
       "      <th>Mar</th>\n",
       "      <th>May</th>\n",
       "      <th>Nov</th>\n",
       "      <th>Oct</th>\n",
       "      <th>Sep</th>\n",
       "    </tr>\n",
       "    <tr>\n",
       "      <th>Year</th>\n",
       "      <th></th>\n",
       "      <th></th>\n",
       "      <th></th>\n",
       "      <th></th>\n",
       "      <th></th>\n",
       "      <th></th>\n",
       "      <th></th>\n",
       "      <th></th>\n",
       "      <th></th>\n",
       "      <th></th>\n",
       "      <th></th>\n",
       "      <th></th>\n",
       "    </tr>\n",
       "  </thead>\n",
       "  <tbody>\n",
       "    <tr>\n",
       "      <th>1950</th>\n",
       "      <td>-5.098322</td>\n",
       "      <td>-3.760094</td>\n",
       "      <td>19.401472</td>\n",
       "      <td>38.451986</td>\n",
       "      <td>30.861825</td>\n",
       "      <td>-9.259630</td>\n",
       "      <td>-7.909236</td>\n",
       "      <td>5.489621</td>\n",
       "      <td>-4.832007</td>\n",
       "      <td>20.970926</td>\n",
       "      <td>19.850237</td>\n",
       "      <td>7.529322</td>\n",
       "    </tr>\n",
       "    <tr>\n",
       "      <th>1951</th>\n",
       "      <td>12.351736</td>\n",
       "      <td>-3.703555</td>\n",
       "      <td>24.348734</td>\n",
       "      <td>4.170357</td>\n",
       "      <td>18.500327</td>\n",
       "      <td>-9.971920</td>\n",
       "      <td>-9.860956</td>\n",
       "      <td>9.093483</td>\n",
       "      <td>-3.621378</td>\n",
       "      <td>21.984424</td>\n",
       "      <td>22.727825</td>\n",
       "      <td>6.583759</td>\n",
       "    </tr>\n",
       "    <tr>\n",
       "      <th>1952</th>\n",
       "      <td>9.820597</td>\n",
       "      <td>-2.602935</td>\n",
       "      <td>30.842829</td>\n",
       "      <td>7.523580</td>\n",
       "      <td>40.392686</td>\n",
       "      <td>-9.486326</td>\n",
       "      <td>-10.382162</td>\n",
       "      <td>4.571577</td>\n",
       "      <td>-5.173109</td>\n",
       "      <td>10.940232</td>\n",
       "      <td>17.639572</td>\n",
       "      <td>8.738449</td>\n",
       "    </tr>\n",
       "    <tr>\n",
       "      <th>1953</th>\n",
       "      <td>3.348074</td>\n",
       "      <td>-2.730733</td>\n",
       "      <td>20.512426</td>\n",
       "      <td>20.497101</td>\n",
       "      <td>9.261478</td>\n",
       "      <td>-9.817928</td>\n",
       "      <td>-12.752176</td>\n",
       "      <td>29.229572</td>\n",
       "      <td>-8.514693</td>\n",
       "      <td>34.714838</td>\n",
       "      <td>22.073531</td>\n",
       "      <td>11.370838</td>\n",
       "    </tr>\n",
       "    <tr>\n",
       "      <th>1954</th>\n",
       "      <td>-7.398718</td>\n",
       "      <td>-2.862303</td>\n",
       "      <td>20.544897</td>\n",
       "      <td>28.173348</td>\n",
       "      <td>16.570961</td>\n",
       "      <td>-10.976635</td>\n",
       "      <td>-12.592391</td>\n",
       "      <td>5.876707</td>\n",
       "      <td>-9.658215</td>\n",
       "      <td>22.913912</td>\n",
       "      <td>23.319659</td>\n",
       "      <td>9.805539</td>\n",
       "    </tr>\n",
       "  </tbody>\n",
       "</table>\n",
       "</div>"
      ],
      "text/plain": [
       "Month        Apr       Aug        Dec        Feb        Jan        Jul  \\\n",
       "Year                                                                     \n",
       "1950   -5.098322 -3.760094  19.401472  38.451986  30.861825  -9.259630   \n",
       "1951   12.351736 -3.703555  24.348734   4.170357  18.500327  -9.971920   \n",
       "1952    9.820597 -2.602935  30.842829   7.523580  40.392686  -9.486326   \n",
       "1953    3.348074 -2.730733  20.512426  20.497101   9.261478  -9.817928   \n",
       "1954   -7.398718 -2.862303  20.544897  28.173348  16.570961 -10.976635   \n",
       "\n",
       "Month        Jun        Mar       May        Nov        Oct        Sep  \n",
       "Year                                                                    \n",
       "1950   -7.909236   5.489621 -4.832007  20.970926  19.850237   7.529322  \n",
       "1951   -9.860956   9.093483 -3.621378  21.984424  22.727825   6.583759  \n",
       "1952  -10.382162   4.571577 -5.173109  10.940232  17.639572   8.738449  \n",
       "1953  -12.752176  29.229572 -8.514693  34.714838  22.073531  11.370838  \n",
       "1954  -12.592391   5.876707 -9.658215  22.913912  23.319659   9.805539  "
      ]
     },
     "execution_count": 31,
     "metadata": {},
     "output_type": "execute_result"
    }
   ],
   "source": [
    "df_monthly_mean.head()"
   ]
  },
  {
   "cell_type": "markdown",
   "id": "cab95a56-9e68-413e-9dc2-d4fab4a6efcb",
   "metadata": {},
   "source": [
    "* Let's reorder so we have our months in the correct order  "
   ]
  },
  {
   "cell_type": "code",
   "execution_count": 33,
   "id": "8f55d11a-095e-4b32-9e53-2b3e8de62b3e",
   "metadata": {},
   "outputs": [],
   "source": [
    "df_monthly_mean = df_monthly_mean[['Jan','Feb','Mar','Apr','May','Jun','Jul','Aug','Sep','Oct','Nov','Dec']]"
   ]
  },
  {
   "cell_type": "code",
   "execution_count": 34,
   "id": "568dd9af-a729-491a-bff1-2c16c05f4b25",
   "metadata": {},
   "outputs": [
    {
     "data": {
      "text/html": [
       "<div>\n",
       "<style scoped>\n",
       "    .dataframe tbody tr th:only-of-type {\n",
       "        vertical-align: middle;\n",
       "    }\n",
       "\n",
       "    .dataframe tbody tr th {\n",
       "        vertical-align: top;\n",
       "    }\n",
       "\n",
       "    .dataframe thead th {\n",
       "        text-align: right;\n",
       "    }\n",
       "</style>\n",
       "<table border=\"1\" class=\"dataframe\">\n",
       "  <thead>\n",
       "    <tr style=\"text-align: right;\">\n",
       "      <th>Month</th>\n",
       "      <th>Jan</th>\n",
       "      <th>Feb</th>\n",
       "      <th>Mar</th>\n",
       "      <th>Apr</th>\n",
       "      <th>May</th>\n",
       "      <th>Jun</th>\n",
       "      <th>Jul</th>\n",
       "      <th>Aug</th>\n",
       "      <th>Sep</th>\n",
       "      <th>Oct</th>\n",
       "      <th>Nov</th>\n",
       "      <th>Dec</th>\n",
       "    </tr>\n",
       "    <tr>\n",
       "      <th>Year</th>\n",
       "      <th></th>\n",
       "      <th></th>\n",
       "      <th></th>\n",
       "      <th></th>\n",
       "      <th></th>\n",
       "      <th></th>\n",
       "      <th></th>\n",
       "      <th></th>\n",
       "      <th></th>\n",
       "      <th></th>\n",
       "      <th></th>\n",
       "      <th></th>\n",
       "    </tr>\n",
       "  </thead>\n",
       "  <tbody>\n",
       "    <tr>\n",
       "      <th>1950</th>\n",
       "      <td>30.861825</td>\n",
       "      <td>38.451986</td>\n",
       "      <td>5.489621</td>\n",
       "      <td>-5.098322</td>\n",
       "      <td>-4.832007</td>\n",
       "      <td>-7.909236</td>\n",
       "      <td>-9.259630</td>\n",
       "      <td>-3.760094</td>\n",
       "      <td>7.529322</td>\n",
       "      <td>19.850237</td>\n",
       "      <td>20.970926</td>\n",
       "      <td>19.401472</td>\n",
       "    </tr>\n",
       "    <tr>\n",
       "      <th>1951</th>\n",
       "      <td>18.500327</td>\n",
       "      <td>4.170357</td>\n",
       "      <td>9.093483</td>\n",
       "      <td>12.351736</td>\n",
       "      <td>-3.621378</td>\n",
       "      <td>-9.860956</td>\n",
       "      <td>-9.971920</td>\n",
       "      <td>-3.703555</td>\n",
       "      <td>6.583759</td>\n",
       "      <td>22.727825</td>\n",
       "      <td>21.984424</td>\n",
       "      <td>24.348734</td>\n",
       "    </tr>\n",
       "    <tr>\n",
       "      <th>1952</th>\n",
       "      <td>40.392686</td>\n",
       "      <td>7.523580</td>\n",
       "      <td>4.571577</td>\n",
       "      <td>9.820597</td>\n",
       "      <td>-5.173109</td>\n",
       "      <td>-10.382162</td>\n",
       "      <td>-9.486326</td>\n",
       "      <td>-2.602935</td>\n",
       "      <td>8.738449</td>\n",
       "      <td>17.639572</td>\n",
       "      <td>10.940232</td>\n",
       "      <td>30.842829</td>\n",
       "    </tr>\n",
       "    <tr>\n",
       "      <th>1953</th>\n",
       "      <td>9.261478</td>\n",
       "      <td>20.497101</td>\n",
       "      <td>29.229572</td>\n",
       "      <td>3.348074</td>\n",
       "      <td>-8.514693</td>\n",
       "      <td>-12.752176</td>\n",
       "      <td>-9.817928</td>\n",
       "      <td>-2.730733</td>\n",
       "      <td>11.370838</td>\n",
       "      <td>22.073531</td>\n",
       "      <td>34.714838</td>\n",
       "      <td>20.512426</td>\n",
       "    </tr>\n",
       "    <tr>\n",
       "      <th>1954</th>\n",
       "      <td>16.570961</td>\n",
       "      <td>28.173348</td>\n",
       "      <td>5.876707</td>\n",
       "      <td>-7.398718</td>\n",
       "      <td>-9.658215</td>\n",
       "      <td>-12.592391</td>\n",
       "      <td>-10.976635</td>\n",
       "      <td>-2.862303</td>\n",
       "      <td>9.805539</td>\n",
       "      <td>23.319659</td>\n",
       "      <td>22.913912</td>\n",
       "      <td>20.544897</td>\n",
       "    </tr>\n",
       "  </tbody>\n",
       "</table>\n",
       "</div>"
      ],
      "text/plain": [
       "Month        Jan        Feb        Mar        Apr       May        Jun  \\\n",
       "Year                                                                     \n",
       "1950   30.861825  38.451986   5.489621  -5.098322 -4.832007  -7.909236   \n",
       "1951   18.500327   4.170357   9.093483  12.351736 -3.621378  -9.860956   \n",
       "1952   40.392686   7.523580   4.571577   9.820597 -5.173109 -10.382162   \n",
       "1953    9.261478  20.497101  29.229572   3.348074 -8.514693 -12.752176   \n",
       "1954   16.570961  28.173348   5.876707  -7.398718 -9.658215 -12.592391   \n",
       "\n",
       "Month        Jul       Aug        Sep        Oct        Nov        Dec  \n",
       "Year                                                                    \n",
       "1950   -9.259630 -3.760094   7.529322  19.850237  20.970926  19.401472  \n",
       "1951   -9.971920 -3.703555   6.583759  22.727825  21.984424  24.348734  \n",
       "1952   -9.486326 -2.602935   8.738449  17.639572  10.940232  30.842829  \n",
       "1953   -9.817928 -2.730733  11.370838  22.073531  34.714838  20.512426  \n",
       "1954  -10.976635 -2.862303   9.805539  23.319659  22.913912  20.544897  "
      ]
     },
     "execution_count": 34,
     "metadata": {},
     "output_type": "execute_result"
    }
   ],
   "source": [
    "df_monthly_mean.head()"
   ]
  },
  {
   "cell_type": "markdown",
   "id": "e9b7be0b-a5ed-4ca2-830a-b0abda884d82",
   "metadata": {},
   "source": [
    "* Finally save the file, this is commented out"
   ]
  },
  {
   "cell_type": "code",
   "execution_count": 35,
   "id": "af0bc8f0-d65a-4877-9ecf-71162d96c045",
   "metadata": {},
   "outputs": [],
   "source": [
    "#df.to_csv('Zonal_wind_60N_10hPa.csv')"
   ]
  }
 ],
 "metadata": {
  "kernelspec": {
   "display_name": "tigra_v5_pt2",
   "language": "python",
   "name": "tigra_v5_pt2"
  },
  "language_info": {
   "codemirror_mode": {
    "name": "ipython",
    "version": 3
   },
   "file_extension": ".py",
   "mimetype": "text/x-python",
   "name": "python",
   "nbconvert_exporter": "python",
   "pygments_lexer": "ipython3",
   "version": "3.10.4"
  }
 },
 "nbformat": 4,
 "nbformat_minor": 5
}
