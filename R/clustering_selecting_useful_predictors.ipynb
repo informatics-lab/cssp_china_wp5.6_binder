{
 "cells": [
  {
   "cell_type": "markdown",
   "id": "7f1d4b13-4ec0-47e7-aa3d-4dd730434b7b",
   "metadata": {},
   "source": [
    "# Finding the most usful predictor of regions of temperature varibiity\n",
    "\n",
    "## Set 1: Clustering \n",
    "\n",
    "First step is to cluster areas of the world into unique clusters to reduce the dimensionality of our data and save on computation time while capturing the information from within the data. \n",
    "\n",
    "## Step 2: Feature selection \n",
    "\n",
    "Find the single most useful predictor for each cluster using the `Boruta` package for random forrest feature selection "
   ]
  },
  {
   "cell_type": "code",
   "execution_count": 1,
   "id": "7495b4ba-1f0f-4552-b79c-1f960c80f37a",
   "metadata": {},
   "outputs": [],
   "source": [
    "library(matrixStats)\n",
    "library(HiClimR)\n",
    "library(ncdf4)\n",
    "library(pdist)\n",
    "library(Boruta)\n",
    "library(ggplot2)"
   ]
  },
  {
   "cell_type": "markdown",
   "id": "da2d1ae9-a4e5-429a-8c99-d2c0dfbb2bd3",
   "metadata": {},
   "source": [
    "## Step 1: CLustering \n",
    "\n",
    "First we need to load our data and do some processing before we can preform our clustering. Firsly we load our data, it is in the form of a netcdf so we use the `ncdf4` package. "
   ]
  },
  {
   "cell_type": "code",
   "execution_count": 2,
   "id": "0d0681b2-af4c-4a71-af41-e830549818e8",
   "metadata": {},
   "outputs": [],
   "source": [
    "tas_jja <- nc_open(\"../data/netcdf/tas_jja_1981_2016_intersected_shortglobe.nc\")"
   ]
  },
  {
   "cell_type": "markdown",
   "id": "19160d0f-b988-4a8d-8903-f0e76aaabf14",
   "metadata": {},
   "source": [
    "Next we need to extract our data from our netcdf. The `ncvar_get` function does this for us. \n",
    "\n",
    "We then use the `grid2D` function to create a grid of latitude and longitudes which we then put into a list so we can use this with the `HiClimR` package. \n",
    "\n",
    "The final line creates a matrix in the form that `HiClimR` expects."
   ]
  },
  {
   "cell_type": "code",
   "execution_count": 3,
   "id": "bf82384f-2b09-4b1c-8ee1-691ea63825ea",
   "metadata": {},
   "outputs": [],
   "source": [
    "nc <- ncvar_get(tas_jja, \"monthly_mean_2_metre_temperature\")\n",
    "lon <- ncvar_get(tas_jja, \"longitude\")\n",
    "lat <- ncvar_get(tas_jja, \"latitude\", verbose = F)\n",
    "t <- ncvar_get(tas_jja, \"time\")\n",
    "xGrid <- grid2D(lon = unique(lon), lat = unique(lat))\n",
    "lonn <- c(xGrid$lon)\n",
    "latt <- c(xGrid$lat)\n",
    "n <- aperm(nc, c(3,2,1))\n",
    "x <- t(matrix(n, nrow=dim(n)[1], byrow=FALSE))"
   ]
  },
  {
   "cell_type": "markdown",
   "id": "27902e9e-32f3-4385-96c3-2eee56c78ebd",
   "metadata": {},
   "source": [
    "Now we coursen our data as to avoid some memory problems, then we extract the variables again to use in the clustering function"
   ]
  },
  {
   "cell_type": "code",
   "execution_count": 4,
   "id": "be85abf8-ceeb-4269-bf4c-0c62f8c5a339",
   "metadata": {},
   "outputs": [],
   "source": [
    "xc <- coarseR(x = x, lon = lonn, lat = latt, lonStep = 6, latStep = 6)\n",
    "lon <- xc$lon\n",
    "lat <- xc$lat\n",
    "x <- xc$x"
   ]
  },
  {
   "cell_type": "markdown",
   "id": "25ab2602-8f16-42ed-8221-51bb66c6d86a",
   "metadata": {},
   "source": [
    "Now for the fun bit, Clustering! \n",
    "\n",
    "The function takes our data `x` as well as our coordinates `lat` and `lon`. We set the number of clusters `k` to be 35. \n",
    "\n",
    "I also use wards method of clustering. `detrend` and `standardize` hyperparameters are both set to true to remove any climate change signal and to ensure we cluster based on variability and not the magnitude of the temperature in that cluster. \n",
    "\n",
    "`validClimR` allows us to extract our cluster means and look at other useful infomration. We can also set the minimum size of a cluster. It also allows a `minSize` to be selected which drops clusters below a certain size. "
   ]
  },
  {
   "cell_type": "code",
   "execution_count": 5,
   "id": "f80749c0-495d-402a-b2f7-675641049850",
   "metadata": {},
   "outputs": [
    {
     "name": "stdout",
     "output_type": "stream",
     "text": [
      "\n",
      "Running Time:\n",
      "   user  system elapsed \n",
      "185.886  21.245 207.120 \n",
      "Time difference of 3.452001 mins\n",
      "---> Computing cluster means...\n",
      "---> Computing inter-cluster correlations...\n",
      "---> Computing intra-cluster correlations...\n",
      "---> Computing summary statistics...\n",
      "Generating region map...\n"
     ]
    }
   ],
   "source": [
    "k = 35 \n",
    "y <- HiClimR(x, lon = lon, lat = lat, lonStep = 1, latStep = 1, geogMask = FALSE, gMask = gmask,\n",
    "         meanThresh = NULL, varThresh = 0, detrend = TRUE,standardize = TRUE, nPC = NULL,\n",
    "         method = \"ward\", hybrid = FALSE, kH = NULL,members=NULL,nSplit = 1,upperTri = TRUE,\n",
    "         verbose = FALSE,validClimR = TRUE, k = k, minSize = 1, alpha = 0.05,plot = TRUE,\n",
    "         colPalette = NULL, hang = -1,labels = FALSE)\n",
    "z <- validClimR(y, k = k, minSize = 5, alpha = 0.05, plot = TRUE, colPalette = NULL)"
   ]
  },
  {
   "cell_type": "code",
   "execution_count": null,
   "id": "149f5472-032c-4978-91f2-f904bbb50976",
   "metadata": {},
   "outputs": [],
   "source": [
    "y.nc <- HiClimR2nc(y=y, ncfile=\"../data/netcdf/HiClimR_k35_ward_shortglobe.nc\", timeunit=\"years\")"
   ]
  },
  {
   "cell_type": "markdown",
   "id": "1f9f1e4f-bbed-4833-8115-63675d44eb03",
   "metadata": {},
   "source": [
    "Now we can extract each clusters mean and how many points are in each cluster. `clust_means` is a dataframe "
   ]
  },
  {
   "cell_type": "code",
   "execution_count": 6,
   "id": "b20a1a42-f581-40fd-909e-dc5fc564bbbe",
   "metadata": {},
   "outputs": [],
   "source": [
    "clust_means <- z$clustMean\n",
    "clust_sizes <- z$clustSize"
   ]
  },
  {
   "cell_type": "markdown",
   "id": "42dfb641-5cf0-434f-b1b4-df9f83e43709",
   "metadata": {},
   "source": [
    "Here are the printed cluster sizes "
   ]
  },
  {
   "cell_type": "code",
   "execution_count": 7,
   "id": "049b4d5b-6a7b-4352-a5f9-ed1c6f43dd9e",
   "metadata": {},
   "outputs": [
    {
     "data": {
      "text/plain": [
       "cutTree\n",
       "   1    2    3    4    5    6    7    8    9   10   11   12   13   14   15   16 \n",
       " 688 1178  590  550 1170  643  729  826  833  300  459  552  775 1740  460  562 \n",
       "  17   18   19   20   21   22   23   24   25   26   27   28   29   30   31   32 \n",
       " 680 2072  859  301  711  637  468  641  825  569  672  431  376  610  408  522 \n",
       "  33   34   35 \n",
       " 364  547  252 "
      ]
     },
     "metadata": {},
     "output_type": "display_data"
    }
   ],
   "source": [
    "clust_sizes"
   ]
  },
  {
   "cell_type": "markdown",
   "id": "8d06b9ae-f176-47bf-a31d-71c2b9793d39",
   "metadata": {},
   "source": [
    "# Step 2: feature selection \n",
    "\n",
    "Now we have the data we need to move onto step 2. Each cluster mean will be used as the varible we want to find the most important climate index for predicting this varible. The most important climate index for each cluster will then be stored and saved. \n"
   ]
  },
  {
   "cell_type": "code",
   "execution_count": 8,
   "id": "ddec5fda-3706-49e0-88a3-64beaab2eded",
   "metadata": {},
   "outputs": [],
   "source": [
    "empty_matrix <- function(rownames, colnames){\n",
    "    empty_array = array(NA, c(length(rownames), length(colnames)))\n",
    "    rownames(empty_array) = rownames\n",
    "    colnames(empty_array) = colnames \n",
    "    return(empty_array)\n",
    "}"
   ]
  },
  {
   "cell_type": "markdown",
   "id": "382de2ed-67ca-4570-9743-486ea6531fb3",
   "metadata": {},
   "source": [
    "Load climate index dataframe"
   ]
  },
  {
   "cell_type": "code",
   "execution_count": 9,
   "id": "90be6ab3-92dc-47de-a710-7fdfc323685c",
   "metadata": {},
   "outputs": [
    {
     "data": {
      "text/html": [
       "<table class=\"dataframe\">\n",
       "<caption>A data.frame: 6 × 144</caption>\n",
       "<thead>\n",
       "\t<tr><th></th><th scope=col>wpsh-9</th><th scope=col>wpsh-10</th><th scope=col>wpsh-11</th><th scope=col>wpsh-12</th><th scope=col>wpsh-1</th><th scope=col>wpsh-2</th><th scope=col>wpsh-3</th><th scope=col>wpsh-4</th><th scope=col>wpsh-5</th><th scope=col>iod-9</th><th scope=col>⋯</th><th scope=col>mjopc1b-5</th><th scope=col>amo-9</th><th scope=col>amo-10</th><th scope=col>amo-11</th><th scope=col>amo-12</th><th scope=col>amo-1</th><th scope=col>amo-2</th><th scope=col>amo-3</th><th scope=col>amo-4</th><th scope=col>amo-5</th></tr>\n",
       "\t<tr><th></th><th scope=col>&lt;dbl&gt;</th><th scope=col>&lt;dbl&gt;</th><th scope=col>&lt;dbl&gt;</th><th scope=col>&lt;dbl&gt;</th><th scope=col>&lt;dbl&gt;</th><th scope=col>&lt;dbl&gt;</th><th scope=col>&lt;dbl&gt;</th><th scope=col>&lt;dbl&gt;</th><th scope=col>&lt;dbl&gt;</th><th scope=col>&lt;dbl&gt;</th><th scope=col>⋯</th><th scope=col>&lt;dbl&gt;</th><th scope=col>&lt;dbl&gt;</th><th scope=col>&lt;dbl&gt;</th><th scope=col>&lt;dbl&gt;</th><th scope=col>&lt;dbl&gt;</th><th scope=col>&lt;dbl&gt;</th><th scope=col>&lt;dbl&gt;</th><th scope=col>&lt;dbl&gt;</th><th scope=col>&lt;dbl&gt;</th><th scope=col>&lt;dbl&gt;</th></tr>\n",
       "</thead>\n",
       "<tbody>\n",
       "\t<tr><th scope=row>1981</th><td>14647.72</td><td>14855.22</td><td>14874.19</td><td>14754.29</td><td>14840.38</td><td>14823.92</td><td>14974.42</td><td>14865.94</td><td>14733.79</td><td>-0.639</td><td>⋯</td><td> 0.3135853</td><td>-0.14</td><td>-0.15</td><td>-0.15</td><td>-0.15</td><td>-0.15</td><td>-0.16</td><td>-0.16</td><td>-0.16</td><td>-0.16</td></tr>\n",
       "\t<tr><th scope=row>1982</th><td>14724.16</td><td>14813.61</td><td>14881.97</td><td>14928.39</td><td>14844.86</td><td>14816.04</td><td>14831.94</td><td>14822.94</td><td>14803.69</td><td>-0.651</td><td>⋯</td><td>-0.8869489</td><td>-0.16</td><td>-0.17</td><td>-0.17</td><td>-0.17</td><td>-0.17</td><td>-0.17</td><td>-0.17</td><td>-0.16</td><td>-0.16</td></tr>\n",
       "\t<tr><th scope=row>1983</th><td>14697.37</td><td>14787.07</td><td>15000.44</td><td>14983.69</td><td>15086.88</td><td>14982.15</td><td>14953.99</td><td>14939.12</td><td>14837.90</td><td> 0.548</td><td>⋯</td><td>-1.2200562</td><td>-0.16</td><td>-0.16</td><td>-0.16</td><td>-0.16</td><td>-0.16</td><td>-0.16</td><td>-0.16</td><td>-0.16</td><td>-0.16</td></tr>\n",
       "\t<tr><th scope=row>1984</th><td>14788.31</td><td>14886.98</td><td>14866.77</td><td>14894.84</td><td>14774.50</td><td>14744.34</td><td>14836.41</td><td>14743.72</td><td>14685.91</td><td> 0.037</td><td>⋯</td><td> 1.0038773</td><td>-0.15</td><td>-0.15</td><td>-0.15</td><td>-0.15</td><td>-0.15</td><td>-0.15</td><td>-0.15</td><td>-0.15</td><td>-0.15</td></tr>\n",
       "\t<tr><th scope=row>1985</th><td>14756.51</td><td>14682.57</td><td>14898.16</td><td>14755.96</td><td>14815.74</td><td>14657.85</td><td>14918.78</td><td>14622.10</td><td>14663.60</td><td>-0.502</td><td>⋯</td><td> 0.9774278</td><td>-0.15</td><td>-0.15</td><td>-0.15</td><td>-0.15</td><td>-0.15</td><td>-0.15</td><td>-0.15</td><td>-0.15</td><td>-0.16</td></tr>\n",
       "\t<tr><th scope=row>1986</th><td>14790.06</td><td>14870.71</td><td>14887.35</td><td>14840.96</td><td>14812.80</td><td>14745.91</td><td>14785.91</td><td>14862.11</td><td>14621.19</td><td>-0.132</td><td>⋯</td><td>-0.3579582</td><td>-0.16</td><td>-0.16</td><td>-0.16</td><td>-0.16</td><td>-0.16</td><td>-0.16</td><td>-0.16</td><td>-0.17</td><td>-0.17</td></tr>\n",
       "</tbody>\n",
       "</table>\n"
      ],
      "text/latex": [
       "A data.frame: 6 × 144\n",
       "\\begin{tabular}{r|lllllllllllllllllllll}\n",
       "  & wpsh-9 & wpsh-10 & wpsh-11 & wpsh-12 & wpsh-1 & wpsh-2 & wpsh-3 & wpsh-4 & wpsh-5 & iod-9 & ⋯ & mjopc1b-5 & amo-9 & amo-10 & amo-11 & amo-12 & amo-1 & amo-2 & amo-3 & amo-4 & amo-5\\\\\n",
       "  & <dbl> & <dbl> & <dbl> & <dbl> & <dbl> & <dbl> & <dbl> & <dbl> & <dbl> & <dbl> & ⋯ & <dbl> & <dbl> & <dbl> & <dbl> & <dbl> & <dbl> & <dbl> & <dbl> & <dbl> & <dbl>\\\\\n",
       "\\hline\n",
       "\t1981 & 14647.72 & 14855.22 & 14874.19 & 14754.29 & 14840.38 & 14823.92 & 14974.42 & 14865.94 & 14733.79 & -0.639 & ⋯ &  0.3135853 & -0.14 & -0.15 & -0.15 & -0.15 & -0.15 & -0.16 & -0.16 & -0.16 & -0.16\\\\\n",
       "\t1982 & 14724.16 & 14813.61 & 14881.97 & 14928.39 & 14844.86 & 14816.04 & 14831.94 & 14822.94 & 14803.69 & -0.651 & ⋯ & -0.8869489 & -0.16 & -0.17 & -0.17 & -0.17 & -0.17 & -0.17 & -0.17 & -0.16 & -0.16\\\\\n",
       "\t1983 & 14697.37 & 14787.07 & 15000.44 & 14983.69 & 15086.88 & 14982.15 & 14953.99 & 14939.12 & 14837.90 &  0.548 & ⋯ & -1.2200562 & -0.16 & -0.16 & -0.16 & -0.16 & -0.16 & -0.16 & -0.16 & -0.16 & -0.16\\\\\n",
       "\t1984 & 14788.31 & 14886.98 & 14866.77 & 14894.84 & 14774.50 & 14744.34 & 14836.41 & 14743.72 & 14685.91 &  0.037 & ⋯ &  1.0038773 & -0.15 & -0.15 & -0.15 & -0.15 & -0.15 & -0.15 & -0.15 & -0.15 & -0.15\\\\\n",
       "\t1985 & 14756.51 & 14682.57 & 14898.16 & 14755.96 & 14815.74 & 14657.85 & 14918.78 & 14622.10 & 14663.60 & -0.502 & ⋯ &  0.9774278 & -0.15 & -0.15 & -0.15 & -0.15 & -0.15 & -0.15 & -0.15 & -0.15 & -0.16\\\\\n",
       "\t1986 & 14790.06 & 14870.71 & 14887.35 & 14840.96 & 14812.80 & 14745.91 & 14785.91 & 14862.11 & 14621.19 & -0.132 & ⋯ & -0.3579582 & -0.16 & -0.16 & -0.16 & -0.16 & -0.16 & -0.16 & -0.16 & -0.17 & -0.17\\\\\n",
       "\\end{tabular}\n"
      ],
      "text/markdown": [
       "\n",
       "A data.frame: 6 × 144\n",
       "\n",
       "| <!--/--> | wpsh-9 &lt;dbl&gt; | wpsh-10 &lt;dbl&gt; | wpsh-11 &lt;dbl&gt; | wpsh-12 &lt;dbl&gt; | wpsh-1 &lt;dbl&gt; | wpsh-2 &lt;dbl&gt; | wpsh-3 &lt;dbl&gt; | wpsh-4 &lt;dbl&gt; | wpsh-5 &lt;dbl&gt; | iod-9 &lt;dbl&gt; | ⋯ ⋯ | mjopc1b-5 &lt;dbl&gt; | amo-9 &lt;dbl&gt; | amo-10 &lt;dbl&gt; | amo-11 &lt;dbl&gt; | amo-12 &lt;dbl&gt; | amo-1 &lt;dbl&gt; | amo-2 &lt;dbl&gt; | amo-3 &lt;dbl&gt; | amo-4 &lt;dbl&gt; | amo-5 &lt;dbl&gt; |\n",
       "|---|---|---|---|---|---|---|---|---|---|---|---|---|---|---|---|---|---|---|---|---|---|\n",
       "| 1981 | 14647.72 | 14855.22 | 14874.19 | 14754.29 | 14840.38 | 14823.92 | 14974.42 | 14865.94 | 14733.79 | -0.639 | ⋯ |  0.3135853 | -0.14 | -0.15 | -0.15 | -0.15 | -0.15 | -0.16 | -0.16 | -0.16 | -0.16 |\n",
       "| 1982 | 14724.16 | 14813.61 | 14881.97 | 14928.39 | 14844.86 | 14816.04 | 14831.94 | 14822.94 | 14803.69 | -0.651 | ⋯ | -0.8869489 | -0.16 | -0.17 | -0.17 | -0.17 | -0.17 | -0.17 | -0.17 | -0.16 | -0.16 |\n",
       "| 1983 | 14697.37 | 14787.07 | 15000.44 | 14983.69 | 15086.88 | 14982.15 | 14953.99 | 14939.12 | 14837.90 |  0.548 | ⋯ | -1.2200562 | -0.16 | -0.16 | -0.16 | -0.16 | -0.16 | -0.16 | -0.16 | -0.16 | -0.16 |\n",
       "| 1984 | 14788.31 | 14886.98 | 14866.77 | 14894.84 | 14774.50 | 14744.34 | 14836.41 | 14743.72 | 14685.91 |  0.037 | ⋯ |  1.0038773 | -0.15 | -0.15 | -0.15 | -0.15 | -0.15 | -0.15 | -0.15 | -0.15 | -0.15 |\n",
       "| 1985 | 14756.51 | 14682.57 | 14898.16 | 14755.96 | 14815.74 | 14657.85 | 14918.78 | 14622.10 | 14663.60 | -0.502 | ⋯ |  0.9774278 | -0.15 | -0.15 | -0.15 | -0.15 | -0.15 | -0.15 | -0.15 | -0.15 | -0.16 |\n",
       "| 1986 | 14790.06 | 14870.71 | 14887.35 | 14840.96 | 14812.80 | 14745.91 | 14785.91 | 14862.11 | 14621.19 | -0.132 | ⋯ | -0.3579582 | -0.16 | -0.16 | -0.16 | -0.16 | -0.16 | -0.16 | -0.16 | -0.17 | -0.17 |\n",
       "\n"
      ],
      "text/plain": [
       "     wpsh-9   wpsh-10  wpsh-11  wpsh-12  wpsh-1   wpsh-2   wpsh-3   wpsh-4  \n",
       "1981 14647.72 14855.22 14874.19 14754.29 14840.38 14823.92 14974.42 14865.94\n",
       "1982 14724.16 14813.61 14881.97 14928.39 14844.86 14816.04 14831.94 14822.94\n",
       "1983 14697.37 14787.07 15000.44 14983.69 15086.88 14982.15 14953.99 14939.12\n",
       "1984 14788.31 14886.98 14866.77 14894.84 14774.50 14744.34 14836.41 14743.72\n",
       "1985 14756.51 14682.57 14898.16 14755.96 14815.74 14657.85 14918.78 14622.10\n",
       "1986 14790.06 14870.71 14887.35 14840.96 14812.80 14745.91 14785.91 14862.11\n",
       "     wpsh-5   iod-9  <U+22EF>   mjopc1b-5  amo-9 amo-10 amo-11 amo-12 amo-1 amo-2\n",
       "1981 14733.79 -0.639 <U+22EF>  0.3135853 -0.14 -0.15  -0.15  -0.15  -0.15 -0.16\n",
       "1982 14803.69 -0.651 <U+22EF> -0.8869489 -0.16 -0.17  -0.17  -0.17  -0.17 -0.17\n",
       "1983 14837.90  0.548 <U+22EF> -1.2200562 -0.16 -0.16  -0.16  -0.16  -0.16 -0.16\n",
       "1984 14685.91  0.037 <U+22EF>  1.0038773 -0.15 -0.15  -0.15  -0.15  -0.15 -0.15\n",
       "1985 14663.60 -0.502 <U+22EF>  0.9774278 -0.15 -0.15  -0.15  -0.15  -0.15 -0.15\n",
       "1986 14621.19 -0.132 <U+22EF> -0.3579582 -0.16 -0.16  -0.16  -0.16  -0.16 -0.16\n",
       "     amo-3 amo-4 amo-5\n",
       "1981 -0.16 -0.16 -0.16\n",
       "1982 -0.17 -0.16 -0.16\n",
       "1983 -0.16 -0.16 -0.16\n",
       "1984 -0.15 -0.15 -0.15\n",
       "1985 -0.15 -0.15 -0.16\n",
       "1986 -0.16 -0.17 -0.17"
      ]
     },
     "metadata": {},
     "output_type": "display_data"
    }
   ],
   "source": [
    "climate_indices_fname = '../data/csv/climate_indices_1981-2016.csv'\n",
    "climate_indices = read.csv(climate_indices_fname, header = TRUE,sep = \",\", stringsAsFactors = FALSE)\n",
    "colnames(climate_indices) <- gsub(\"[[:punct:]]\", \"-\", colnames(climate_indices))\n",
    "head(climate_indices)"
   ]
  },
  {
   "cell_type": "code",
   "execution_count": 10,
   "id": "f012c162-e532-49ba-a3ca-b49202988c37",
   "metadata": {},
   "outputs": [],
   "source": [
    "ind_list = c(\"wpsh\", \"iod\", \"pdo\", \"nin3\",\"seu\", \"nao\", \"snao\", \"scand\", \"ao\", \"eawr\", \"peu\", \"cgt\", \"pstratu\", \"mjopc1a\", \"mjopc1b\", \"amo\")\n",
    "cmons_num = c(9,10,11,12,1,2,3,4,5)"
   ]
  },
  {
   "cell_type": "markdown",
   "id": "00371ef7-cefe-4772-9b93-14b1487c9abe",
   "metadata": {},
   "source": [
    "Detrend and standardise the data "
   ]
  },
  {
   "cell_type": "code",
   "execution_count": 11,
   "id": "979ae785-e025-4dfb-a3f3-e43e8deee961",
   "metadata": {},
   "outputs": [],
   "source": [
    "cindex_anoms = empty_matrix(rownames(climate_indices), colnames(climate_indices))\n",
    "\n",
    "for (s in 1:dim(climate_indices)[2]) {\n",
    "    timesteps = 1:dim(climate_indices)[1]\n",
    "    detrend = lm(climate_indices[,s] ~ timesteps)$residuals\n",
    "    standardised = scale(detrend)\n",
    "    cindex_anoms[,s] = standardised\n",
    "}"
   ]
  },
  {
   "cell_type": "markdown",
   "id": "301fe74e-b257-4d42-842a-e75677c24a6c",
   "metadata": {},
   "source": [
    "Calculation of significant correlation to remove some poorly correlated indices "
   ]
  },
  {
   "cell_type": "code",
   "execution_count": 12,
   "id": "b7f9dd26-1e83-4061-ba8c-05b414b2e2ae",
   "metadata": {},
   "outputs": [],
   "source": [
    "critical.r <- function(n, alpha) {\n",
    "  df <- n - 2\n",
    "  critical.t <- qt( alpha/2, df, lower.tail = F )\n",
    "  critical.r <- sqrt( (critical.t^2) / ( (critical.t^2) + df ) )\n",
    "  return( critical.r )\n",
    "}"
   ]
  },
  {
   "cell_type": "code",
   "execution_count": 13,
   "id": "503a04d3-4a2a-4f3a-9d1c-e6e09c975384",
   "metadata": {},
   "outputs": [
    {
     "data": {
      "text/html": [
       "<table class=\"dataframe\">\n",
       "<caption>A matrix: 6 × 35 of type dbl</caption>\n",
       "<thead>\n",
       "\t<tr><th></th><th scope=col>1</th><th scope=col>2</th><th scope=col>3</th><th scope=col>4</th><th scope=col>5</th><th scope=col>6</th><th scope=col>7</th><th scope=col>8</th><th scope=col>9</th><th scope=col>10</th><th scope=col>⋯</th><th scope=col>26</th><th scope=col>27</th><th scope=col>28</th><th scope=col>29</th><th scope=col>30</th><th scope=col>31</th><th scope=col>32</th><th scope=col>33</th><th scope=col>34</th><th scope=col>35</th></tr>\n",
       "</thead>\n",
       "<tbody>\n",
       "\t<tr><th scope=row>wpsh-9</th><td> 0.005799848</td><td>0.04057066</td><td>-0.03083227</td><td> 0.07987746</td><td> 0.34071888</td><td>-0.01630493</td><td>-0.1327423</td><td>-0.07438731</td><td>-0.09759056</td><td> 0.05521589</td><td>⋯</td><td>-0.04114264</td><td>-0.01293670</td><td> 0.05608885</td><td> 0.10282675</td><td> 0.272139075</td><td> 0.19957481</td><td>0.33533929</td><td>-0.23153322</td><td>0.12703304</td><td>-0.153437362</td></tr>\n",
       "\t<tr><th scope=row>wpsh-10</th><td>-0.209234410</td><td>0.15943928</td><td>-0.08073953</td><td> 0.15544845</td><td> 0.29973523</td><td>-0.14968606</td><td> 0.2190246</td><td> 0.12403121</td><td>-0.24438560</td><td> 0.03497221</td><td>⋯</td><td>-0.02766371</td><td>-0.09195440</td><td> 0.34467009</td><td> 0.25308461</td><td> 0.402487952</td><td> 0.17423682</td><td>0.06418368</td><td>-0.12082906</td><td>0.15708375</td><td> 0.006874142</td></tr>\n",
       "\t<tr><th scope=row>wpsh-11</th><td> 0.300547045</td><td>0.41659399</td><td> 0.02758540</td><td> 0.05340974</td><td> 0.03974924</td><td> 0.16667733</td><td> 0.2813868</td><td> 0.55624825</td><td>-0.11489237</td><td>-0.11149958</td><td>⋯</td><td>-0.01577221</td><td>-0.05943758</td><td> 0.01281907</td><td>-0.03064276</td><td>-0.112357857</td><td>-0.19484284</td><td>0.29649734</td><td> 0.12001687</td><td>0.05488988</td><td> 0.084278401</td></tr>\n",
       "\t<tr><th scope=row>wpsh-12</th><td> 0.249913571</td><td>0.29880010</td><td> 0.06480233</td><td>-0.07449971</td><td>-0.17507538</td><td> 0.20959044</td><td> 0.3695751</td><td> 0.34030814</td><td>-0.13514397</td><td>-0.14893093</td><td>⋯</td><td>-0.41931316</td><td> 0.04992801</td><td> 0.16549021</td><td>-0.24402059</td><td>-0.052905291</td><td>-0.16553310</td><td>0.13557951</td><td> 0.30972555</td><td>0.07959073</td><td>-0.235481390</td></tr>\n",
       "\t<tr><th scope=row>wpsh-1</th><td> 0.309945686</td><td>0.43622508</td><td>-0.07302310</td><td>-0.07352957</td><td>-0.26879666</td><td> 0.12591420</td><td> 0.2851845</td><td> 0.46000273</td><td> 0.02370832</td><td>-0.22009252</td><td>⋯</td><td>-0.14486715</td><td>-0.02935098</td><td>-0.01416633</td><td>-0.11254153</td><td>-0.090480149</td><td>-0.15617051</td><td>0.03730905</td><td> 0.05234819</td><td>0.17230562</td><td> 0.058013541</td></tr>\n",
       "\t<tr><th scope=row>wpsh-2</th><td> 0.317700754</td><td>0.55393058</td><td> 0.03430030</td><td> 0.07172785</td><td>-0.08085522</td><td> 0.04370607</td><td> 0.3218175</td><td> 0.49824815</td><td> 0.04793476</td><td> 0.06128107</td><td>⋯</td><td>-0.02383256</td><td> 0.13284639</td><td> 0.15807312</td><td>-0.02723239</td><td>-0.000834714</td><td>-0.04939049</td><td>0.11740895</td><td> 0.32572721</td><td>0.08614723</td><td>-0.048018540</td></tr>\n",
       "</tbody>\n",
       "</table>\n"
      ],
      "text/latex": [
       "A matrix: 6 × 35 of type dbl\n",
       "\\begin{tabular}{r|lllllllllllllllllllll}\n",
       "  & 1 & 2 & 3 & 4 & 5 & 6 & 7 & 8 & 9 & 10 & ⋯ & 26 & 27 & 28 & 29 & 30 & 31 & 32 & 33 & 34 & 35\\\\\n",
       "\\hline\n",
       "\twpsh-9 &  0.005799848 & 0.04057066 & -0.03083227 &  0.07987746 &  0.34071888 & -0.01630493 & -0.1327423 & -0.07438731 & -0.09759056 &  0.05521589 & ⋯ & -0.04114264 & -0.01293670 &  0.05608885 &  0.10282675 &  0.272139075 &  0.19957481 & 0.33533929 & -0.23153322 & 0.12703304 & -0.153437362\\\\\n",
       "\twpsh-10 & -0.209234410 & 0.15943928 & -0.08073953 &  0.15544845 &  0.29973523 & -0.14968606 &  0.2190246 &  0.12403121 & -0.24438560 &  0.03497221 & ⋯ & -0.02766371 & -0.09195440 &  0.34467009 &  0.25308461 &  0.402487952 &  0.17423682 & 0.06418368 & -0.12082906 & 0.15708375 &  0.006874142\\\\\n",
       "\twpsh-11 &  0.300547045 & 0.41659399 &  0.02758540 &  0.05340974 &  0.03974924 &  0.16667733 &  0.2813868 &  0.55624825 & -0.11489237 & -0.11149958 & ⋯ & -0.01577221 & -0.05943758 &  0.01281907 & -0.03064276 & -0.112357857 & -0.19484284 & 0.29649734 &  0.12001687 & 0.05488988 &  0.084278401\\\\\n",
       "\twpsh-12 &  0.249913571 & 0.29880010 &  0.06480233 & -0.07449971 & -0.17507538 &  0.20959044 &  0.3695751 &  0.34030814 & -0.13514397 & -0.14893093 & ⋯ & -0.41931316 &  0.04992801 &  0.16549021 & -0.24402059 & -0.052905291 & -0.16553310 & 0.13557951 &  0.30972555 & 0.07959073 & -0.235481390\\\\\n",
       "\twpsh-1 &  0.309945686 & 0.43622508 & -0.07302310 & -0.07352957 & -0.26879666 &  0.12591420 &  0.2851845 &  0.46000273 &  0.02370832 & -0.22009252 & ⋯ & -0.14486715 & -0.02935098 & -0.01416633 & -0.11254153 & -0.090480149 & -0.15617051 & 0.03730905 &  0.05234819 & 0.17230562 &  0.058013541\\\\\n",
       "\twpsh-2 &  0.317700754 & 0.55393058 &  0.03430030 &  0.07172785 & -0.08085522 &  0.04370607 &  0.3218175 &  0.49824815 &  0.04793476 &  0.06128107 & ⋯ & -0.02383256 &  0.13284639 &  0.15807312 & -0.02723239 & -0.000834714 & -0.04939049 & 0.11740895 &  0.32572721 & 0.08614723 & -0.048018540\\\\\n",
       "\\end{tabular}\n"
      ],
      "text/markdown": [
       "\n",
       "A matrix: 6 × 35 of type dbl\n",
       "\n",
       "| <!--/--> | 1 | 2 | 3 | 4 | 5 | 6 | 7 | 8 | 9 | 10 | ⋯ | 26 | 27 | 28 | 29 | 30 | 31 | 32 | 33 | 34 | 35 |\n",
       "|---|---|---|---|---|---|---|---|---|---|---|---|---|---|---|---|---|---|---|---|---|---|\n",
       "| wpsh-9 |  0.005799848 | 0.04057066 | -0.03083227 |  0.07987746 |  0.34071888 | -0.01630493 | -0.1327423 | -0.07438731 | -0.09759056 |  0.05521589 | ⋯ | -0.04114264 | -0.01293670 |  0.05608885 |  0.10282675 |  0.272139075 |  0.19957481 | 0.33533929 | -0.23153322 | 0.12703304 | -0.153437362 |\n",
       "| wpsh-10 | -0.209234410 | 0.15943928 | -0.08073953 |  0.15544845 |  0.29973523 | -0.14968606 |  0.2190246 |  0.12403121 | -0.24438560 |  0.03497221 | ⋯ | -0.02766371 | -0.09195440 |  0.34467009 |  0.25308461 |  0.402487952 |  0.17423682 | 0.06418368 | -0.12082906 | 0.15708375 |  0.006874142 |\n",
       "| wpsh-11 |  0.300547045 | 0.41659399 |  0.02758540 |  0.05340974 |  0.03974924 |  0.16667733 |  0.2813868 |  0.55624825 | -0.11489237 | -0.11149958 | ⋯ | -0.01577221 | -0.05943758 |  0.01281907 | -0.03064276 | -0.112357857 | -0.19484284 | 0.29649734 |  0.12001687 | 0.05488988 |  0.084278401 |\n",
       "| wpsh-12 |  0.249913571 | 0.29880010 |  0.06480233 | -0.07449971 | -0.17507538 |  0.20959044 |  0.3695751 |  0.34030814 | -0.13514397 | -0.14893093 | ⋯ | -0.41931316 |  0.04992801 |  0.16549021 | -0.24402059 | -0.052905291 | -0.16553310 | 0.13557951 |  0.30972555 | 0.07959073 | -0.235481390 |\n",
       "| wpsh-1 |  0.309945686 | 0.43622508 | -0.07302310 | -0.07352957 | -0.26879666 |  0.12591420 |  0.2851845 |  0.46000273 |  0.02370832 | -0.22009252 | ⋯ | -0.14486715 | -0.02935098 | -0.01416633 | -0.11254153 | -0.090480149 | -0.15617051 | 0.03730905 |  0.05234819 | 0.17230562 |  0.058013541 |\n",
       "| wpsh-2 |  0.317700754 | 0.55393058 |  0.03430030 |  0.07172785 | -0.08085522 |  0.04370607 |  0.3218175 |  0.49824815 |  0.04793476 |  0.06128107 | ⋯ | -0.02383256 |  0.13284639 |  0.15807312 | -0.02723239 | -0.000834714 | -0.04939049 | 0.11740895 |  0.32572721 | 0.08614723 | -0.048018540 |\n",
       "\n"
      ],
      "text/plain": [
       "        1            2          3           4           5           6          \n",
       "wpsh-9   0.005799848 0.04057066 -0.03083227  0.07987746  0.34071888 -0.01630493\n",
       "wpsh-10 -0.209234410 0.15943928 -0.08073953  0.15544845  0.29973523 -0.14968606\n",
       "wpsh-11  0.300547045 0.41659399  0.02758540  0.05340974  0.03974924  0.16667733\n",
       "wpsh-12  0.249913571 0.29880010  0.06480233 -0.07449971 -0.17507538  0.20959044\n",
       "wpsh-1   0.309945686 0.43622508 -0.07302310 -0.07352957 -0.26879666  0.12591420\n",
       "wpsh-2   0.317700754 0.55393058  0.03430030  0.07172785 -0.08085522  0.04370607\n",
       "        7          8           9           10          <U+22EF>   26         \n",
       "wpsh-9  -0.1327423 -0.07438731 -0.09759056  0.05521589 <U+22EF> -0.04114264\n",
       "wpsh-10  0.2190246  0.12403121 -0.24438560  0.03497221 <U+22EF> -0.02766371\n",
       "wpsh-11  0.2813868  0.55624825 -0.11489237 -0.11149958 <U+22EF> -0.01577221\n",
       "wpsh-12  0.3695751  0.34030814 -0.13514397 -0.14893093 <U+22EF> -0.41931316\n",
       "wpsh-1   0.2851845  0.46000273  0.02370832 -0.22009252 <U+22EF> -0.14486715\n",
       "wpsh-2   0.3218175  0.49824815  0.04793476  0.06128107 <U+22EF> -0.02383256\n",
       "        27          28          29          30           31          32        \n",
       "wpsh-9  -0.01293670  0.05608885  0.10282675  0.272139075  0.19957481 0.33533929\n",
       "wpsh-10 -0.09195440  0.34467009  0.25308461  0.402487952  0.17423682 0.06418368\n",
       "wpsh-11 -0.05943758  0.01281907 -0.03064276 -0.112357857 -0.19484284 0.29649734\n",
       "wpsh-12  0.04992801  0.16549021 -0.24402059 -0.052905291 -0.16553310 0.13557951\n",
       "wpsh-1  -0.02935098 -0.01416633 -0.11254153 -0.090480149 -0.15617051 0.03730905\n",
       "wpsh-2   0.13284639  0.15807312 -0.02723239 -0.000834714 -0.04939049 0.11740895\n",
       "        33          34         35          \n",
       "wpsh-9  -0.23153322 0.12703304 -0.153437362\n",
       "wpsh-10 -0.12082906 0.15708375  0.006874142\n",
       "wpsh-11  0.12001687 0.05488988  0.084278401\n",
       "wpsh-12  0.30972555 0.07959073 -0.235481390\n",
       "wpsh-1   0.05234819 0.17230562  0.058013541\n",
       "wpsh-2   0.32572721 0.08614723 -0.048018540"
      ]
     },
     "metadata": {},
     "output_type": "display_data"
    }
   ],
   "source": [
    "cindex_clust_cors = cor(cindex_anoms, clust_means)\n",
    "head(cindex_clust_cors)"
   ]
  },
  {
   "cell_type": "markdown",
   "id": "acee2086-a0d3-40b8-9a0d-a797049b1347",
   "metadata": {},
   "source": [
    "Calculate the crictal correlation threshold "
   ]
  },
  {
   "cell_type": "code",
   "execution_count": 14,
   "id": "511dede3-675c-4a38-96d6-ebe5f9f8dac3",
   "metadata": {},
   "outputs": [
    {
     "data": {
      "text/html": [
       "0.244893688710902"
      ],
      "text/latex": [
       "0.244893688710902"
      ],
      "text/markdown": [
       "0.244893688710902"
      ],
      "text/plain": [
       "[1] 0.2448937"
      ]
     },
     "metadata": {},
     "output_type": "display_data"
    }
   ],
   "source": [
    "cor_crit = critical.r(length(rownames(cindex_anoms)), 0.15)\n",
    "cor_crit"
   ]
  },
  {
   "cell_type": "markdown",
   "id": "e3874212-d82e-4a6b-b497-39c1085b3cc5",
   "metadata": {},
   "source": [
    "The names of all the remaining climate indices "
   ]
  },
  {
   "cell_type": "code",
   "execution_count": 15,
   "id": "9e79c816-b4df-4529-b0dc-afdf34061724",
   "metadata": {},
   "outputs": [
    {
     "data": {
      "text/html": [
       "<style>\n",
       ".list-inline {list-style: none; margin:0; padding: 0}\n",
       ".list-inline>li {display: inline-block}\n",
       ".list-inline>li:not(:last-child)::after {content: \"\\00b7\"; padding: 0 .5ex}\n",
       "</style>\n",
       "<ol class=list-inline><li>'wpsh-11'</li><li>'wpsh-12'</li><li>'wpsh-1'</li><li>'wpsh-2'</li><li>'wpsh-5'</li><li>'iod-12'</li><li>'nin3-10'</li><li>'nin3-11'</li><li>'nin3-12'</li><li>'nin3-1'</li><li>'nin3-2'</li><li>'seu-1'</li><li>'seu-2'</li><li>'seu-4'</li><li>'nao-10'</li><li>'nao-11'</li><li>'nao-1'</li><li>'nao-3'</li><li>'nao-4'</li><li>'snao-2'</li><li>'snao-4'</li><li>'scand-12'</li><li>'scand-1'</li><li>'ao-9'</li><li>'ao-11'</li><li>'ao-12'</li><li>'ao-1'</li><li>'ao-3'</li><li>'cgt-1'</li><li>'cgt-3'</li><li>'mjopc1a-10'</li><li>'mjopc1a-11'</li><li>'mjopc1a-5'</li><li>'mjopc1b-2'</li><li>'wpsh-3'</li><li>'wpsh-4'</li><li>'iod-9'</li><li>'iod-10'</li><li>'iod-11'</li><li>'iod-1'</li><li>'pdo-9'</li><li>'pdo-10'</li><li>'pdo-11'</li><li>'pdo-2'</li><li>'pdo-3'</li><li>'nin3-9'</li><li>'nin3-3'</li><li>'snao-11'</li><li>'snao-5'</li><li>'ao-4'</li><li>'eawr-11'</li><li>'eawr-12'</li><li>'eawr-2'</li><li>'eawr-5'</li><li>'pstratu-9'</li><li>'pstratu-10'</li><li>'pstratu-3'</li><li>'pstratu-5'</li><li>'mjopc1a-9'</li><li>'mjopc1a-2'</li><li>'mjopc1b-9'</li><li>'mjopc1b-10'</li><li>'mjopc1b-12'</li><li>'mjopc1b-5'</li><li>'amo-4'</li><li>'amo-5'</li><li>'pdo-1'</li><li>'pdo-4'</li><li>'pdo-5'</li><li>'seu-11'</li><li>'seu-5'</li><li>'snao-9'</li><li>'scand-9'</li><li>'eawr-3'</li><li>'eawr-4'</li><li>'peu-10'</li><li>'peu-11'</li><li>'pstratu-1'</li><li>'pstratu-2'</li><li>'mjopc1a-3'</li><li>'mjopc1b-3'</li><li>'nao-5'</li><li>'snao-12'</li><li>'scand-3'</li><li>'peu-1'</li><li>'peu-5'</li><li>'amo-1'</li><li>'amo-2'</li><li>'amo-3'</li><li>'wpsh-9'</li><li>'wpsh-10'</li><li>'iod-3'</li><li>'iod-4'</li><li>'nin3-4'</li><li>'nin3-5'</li><li>'snao-3'</li><li>'scand-11'</li><li>'eawr-1'</li><li>'peu-2'</li><li>'cgt-5'</li><li>'mjopc1a-4'</li><li>'mjopc1b-4'</li><li>'pdo-12'</li><li>'seu-3'</li><li>'peu-3'</li><li>'cgt-11'</li><li>'cgt-2'</li><li>'amo-9'</li><li>'amo-10'</li><li>'amo-11'</li><li>'amo-12'</li><li>'iod-5'</li><li>'cgt-9'</li><li>'seu-10'</li><li>'peu-12'</li><li>'peu-4'</li><li>'cgt-10'</li><li>'mjopc1b-11'</li><li>'snao-1'</li><li>'scand-10'</li><li>'pstratu-4'</li><li>'iod-2'</li><li>'nao-9'</li><li>'nao-2'</li><li>'scand-5'</li><li>'cgt-12'</li><li>'pstratu-12'</li><li>'eawr-9'</li><li>'eawr-10'</li><li>'ao-5'</li><li>'cgt-4'</li><li>'mjopc1a-1'</li><li>'mjopc1b-1'</li><li>'ao-2'</li><li>'seu-9'</li><li>'scand-4'</li><li>'peu-9'</li><li>'pstratu-11'</li><li>'ao-10'</li><li>'nao-12'</li><li>'seu-12'</li><li>'scand-2'</li><li>'mjopc1a-12'</li></ol>\n"
      ],
      "text/latex": [
       "\\begin{enumerate*}\n",
       "\\item 'wpsh-11'\n",
       "\\item 'wpsh-12'\n",
       "\\item 'wpsh-1'\n",
       "\\item 'wpsh-2'\n",
       "\\item 'wpsh-5'\n",
       "\\item 'iod-12'\n",
       "\\item 'nin3-10'\n",
       "\\item 'nin3-11'\n",
       "\\item 'nin3-12'\n",
       "\\item 'nin3-1'\n",
       "\\item 'nin3-2'\n",
       "\\item 'seu-1'\n",
       "\\item 'seu-2'\n",
       "\\item 'seu-4'\n",
       "\\item 'nao-10'\n",
       "\\item 'nao-11'\n",
       "\\item 'nao-1'\n",
       "\\item 'nao-3'\n",
       "\\item 'nao-4'\n",
       "\\item 'snao-2'\n",
       "\\item 'snao-4'\n",
       "\\item 'scand-12'\n",
       "\\item 'scand-1'\n",
       "\\item 'ao-9'\n",
       "\\item 'ao-11'\n",
       "\\item 'ao-12'\n",
       "\\item 'ao-1'\n",
       "\\item 'ao-3'\n",
       "\\item 'cgt-1'\n",
       "\\item 'cgt-3'\n",
       "\\item 'mjopc1a-10'\n",
       "\\item 'mjopc1a-11'\n",
       "\\item 'mjopc1a-5'\n",
       "\\item 'mjopc1b-2'\n",
       "\\item 'wpsh-3'\n",
       "\\item 'wpsh-4'\n",
       "\\item 'iod-9'\n",
       "\\item 'iod-10'\n",
       "\\item 'iod-11'\n",
       "\\item 'iod-1'\n",
       "\\item 'pdo-9'\n",
       "\\item 'pdo-10'\n",
       "\\item 'pdo-11'\n",
       "\\item 'pdo-2'\n",
       "\\item 'pdo-3'\n",
       "\\item 'nin3-9'\n",
       "\\item 'nin3-3'\n",
       "\\item 'snao-11'\n",
       "\\item 'snao-5'\n",
       "\\item 'ao-4'\n",
       "\\item 'eawr-11'\n",
       "\\item 'eawr-12'\n",
       "\\item 'eawr-2'\n",
       "\\item 'eawr-5'\n",
       "\\item 'pstratu-9'\n",
       "\\item 'pstratu-10'\n",
       "\\item 'pstratu-3'\n",
       "\\item 'pstratu-5'\n",
       "\\item 'mjopc1a-9'\n",
       "\\item 'mjopc1a-2'\n",
       "\\item 'mjopc1b-9'\n",
       "\\item 'mjopc1b-10'\n",
       "\\item 'mjopc1b-12'\n",
       "\\item 'mjopc1b-5'\n",
       "\\item 'amo-4'\n",
       "\\item 'amo-5'\n",
       "\\item 'pdo-1'\n",
       "\\item 'pdo-4'\n",
       "\\item 'pdo-5'\n",
       "\\item 'seu-11'\n",
       "\\item 'seu-5'\n",
       "\\item 'snao-9'\n",
       "\\item 'scand-9'\n",
       "\\item 'eawr-3'\n",
       "\\item 'eawr-4'\n",
       "\\item 'peu-10'\n",
       "\\item 'peu-11'\n",
       "\\item 'pstratu-1'\n",
       "\\item 'pstratu-2'\n",
       "\\item 'mjopc1a-3'\n",
       "\\item 'mjopc1b-3'\n",
       "\\item 'nao-5'\n",
       "\\item 'snao-12'\n",
       "\\item 'scand-3'\n",
       "\\item 'peu-1'\n",
       "\\item 'peu-5'\n",
       "\\item 'amo-1'\n",
       "\\item 'amo-2'\n",
       "\\item 'amo-3'\n",
       "\\item 'wpsh-9'\n",
       "\\item 'wpsh-10'\n",
       "\\item 'iod-3'\n",
       "\\item 'iod-4'\n",
       "\\item 'nin3-4'\n",
       "\\item 'nin3-5'\n",
       "\\item 'snao-3'\n",
       "\\item 'scand-11'\n",
       "\\item 'eawr-1'\n",
       "\\item 'peu-2'\n",
       "\\item 'cgt-5'\n",
       "\\item 'mjopc1a-4'\n",
       "\\item 'mjopc1b-4'\n",
       "\\item 'pdo-12'\n",
       "\\item 'seu-3'\n",
       "\\item 'peu-3'\n",
       "\\item 'cgt-11'\n",
       "\\item 'cgt-2'\n",
       "\\item 'amo-9'\n",
       "\\item 'amo-10'\n",
       "\\item 'amo-11'\n",
       "\\item 'amo-12'\n",
       "\\item 'iod-5'\n",
       "\\item 'cgt-9'\n",
       "\\item 'seu-10'\n",
       "\\item 'peu-12'\n",
       "\\item 'peu-4'\n",
       "\\item 'cgt-10'\n",
       "\\item 'mjopc1b-11'\n",
       "\\item 'snao-1'\n",
       "\\item 'scand-10'\n",
       "\\item 'pstratu-4'\n",
       "\\item 'iod-2'\n",
       "\\item 'nao-9'\n",
       "\\item 'nao-2'\n",
       "\\item 'scand-5'\n",
       "\\item 'cgt-12'\n",
       "\\item 'pstratu-12'\n",
       "\\item 'eawr-9'\n",
       "\\item 'eawr-10'\n",
       "\\item 'ao-5'\n",
       "\\item 'cgt-4'\n",
       "\\item 'mjopc1a-1'\n",
       "\\item 'mjopc1b-1'\n",
       "\\item 'ao-2'\n",
       "\\item 'seu-9'\n",
       "\\item 'scand-4'\n",
       "\\item 'peu-9'\n",
       "\\item 'pstratu-11'\n",
       "\\item 'ao-10'\n",
       "\\item 'nao-12'\n",
       "\\item 'seu-12'\n",
       "\\item 'scand-2'\n",
       "\\item 'mjopc1a-12'\n",
       "\\end{enumerate*}\n"
      ],
      "text/markdown": [
       "1. 'wpsh-11'\n",
       "2. 'wpsh-12'\n",
       "3. 'wpsh-1'\n",
       "4. 'wpsh-2'\n",
       "5. 'wpsh-5'\n",
       "6. 'iod-12'\n",
       "7. 'nin3-10'\n",
       "8. 'nin3-11'\n",
       "9. 'nin3-12'\n",
       "10. 'nin3-1'\n",
       "11. 'nin3-2'\n",
       "12. 'seu-1'\n",
       "13. 'seu-2'\n",
       "14. 'seu-4'\n",
       "15. 'nao-10'\n",
       "16. 'nao-11'\n",
       "17. 'nao-1'\n",
       "18. 'nao-3'\n",
       "19. 'nao-4'\n",
       "20. 'snao-2'\n",
       "21. 'snao-4'\n",
       "22. 'scand-12'\n",
       "23. 'scand-1'\n",
       "24. 'ao-9'\n",
       "25. 'ao-11'\n",
       "26. 'ao-12'\n",
       "27. 'ao-1'\n",
       "28. 'ao-3'\n",
       "29. 'cgt-1'\n",
       "30. 'cgt-3'\n",
       "31. 'mjopc1a-10'\n",
       "32. 'mjopc1a-11'\n",
       "33. 'mjopc1a-5'\n",
       "34. 'mjopc1b-2'\n",
       "35. 'wpsh-3'\n",
       "36. 'wpsh-4'\n",
       "37. 'iod-9'\n",
       "38. 'iod-10'\n",
       "39. 'iod-11'\n",
       "40. 'iod-1'\n",
       "41. 'pdo-9'\n",
       "42. 'pdo-10'\n",
       "43. 'pdo-11'\n",
       "44. 'pdo-2'\n",
       "45. 'pdo-3'\n",
       "46. 'nin3-9'\n",
       "47. 'nin3-3'\n",
       "48. 'snao-11'\n",
       "49. 'snao-5'\n",
       "50. 'ao-4'\n",
       "51. 'eawr-11'\n",
       "52. 'eawr-12'\n",
       "53. 'eawr-2'\n",
       "54. 'eawr-5'\n",
       "55. 'pstratu-9'\n",
       "56. 'pstratu-10'\n",
       "57. 'pstratu-3'\n",
       "58. 'pstratu-5'\n",
       "59. 'mjopc1a-9'\n",
       "60. 'mjopc1a-2'\n",
       "61. 'mjopc1b-9'\n",
       "62. 'mjopc1b-10'\n",
       "63. 'mjopc1b-12'\n",
       "64. 'mjopc1b-5'\n",
       "65. 'amo-4'\n",
       "66. 'amo-5'\n",
       "67. 'pdo-1'\n",
       "68. 'pdo-4'\n",
       "69. 'pdo-5'\n",
       "70. 'seu-11'\n",
       "71. 'seu-5'\n",
       "72. 'snao-9'\n",
       "73. 'scand-9'\n",
       "74. 'eawr-3'\n",
       "75. 'eawr-4'\n",
       "76. 'peu-10'\n",
       "77. 'peu-11'\n",
       "78. 'pstratu-1'\n",
       "79. 'pstratu-2'\n",
       "80. 'mjopc1a-3'\n",
       "81. 'mjopc1b-3'\n",
       "82. 'nao-5'\n",
       "83. 'snao-12'\n",
       "84. 'scand-3'\n",
       "85. 'peu-1'\n",
       "86. 'peu-5'\n",
       "87. 'amo-1'\n",
       "88. 'amo-2'\n",
       "89. 'amo-3'\n",
       "90. 'wpsh-9'\n",
       "91. 'wpsh-10'\n",
       "92. 'iod-3'\n",
       "93. 'iod-4'\n",
       "94. 'nin3-4'\n",
       "95. 'nin3-5'\n",
       "96. 'snao-3'\n",
       "97. 'scand-11'\n",
       "98. 'eawr-1'\n",
       "99. 'peu-2'\n",
       "100. 'cgt-5'\n",
       "101. 'mjopc1a-4'\n",
       "102. 'mjopc1b-4'\n",
       "103. 'pdo-12'\n",
       "104. 'seu-3'\n",
       "105. 'peu-3'\n",
       "106. 'cgt-11'\n",
       "107. 'cgt-2'\n",
       "108. 'amo-9'\n",
       "109. 'amo-10'\n",
       "110. 'amo-11'\n",
       "111. 'amo-12'\n",
       "112. 'iod-5'\n",
       "113. 'cgt-9'\n",
       "114. 'seu-10'\n",
       "115. 'peu-12'\n",
       "116. 'peu-4'\n",
       "117. 'cgt-10'\n",
       "118. 'mjopc1b-11'\n",
       "119. 'snao-1'\n",
       "120. 'scand-10'\n",
       "121. 'pstratu-4'\n",
       "122. 'iod-2'\n",
       "123. 'nao-9'\n",
       "124. 'nao-2'\n",
       "125. 'scand-5'\n",
       "126. 'cgt-12'\n",
       "127. 'pstratu-12'\n",
       "128. 'eawr-9'\n",
       "129. 'eawr-10'\n",
       "130. 'ao-5'\n",
       "131. 'cgt-4'\n",
       "132. 'mjopc1a-1'\n",
       "133. 'mjopc1b-1'\n",
       "134. 'ao-2'\n",
       "135. 'seu-9'\n",
       "136. 'scand-4'\n",
       "137. 'peu-9'\n",
       "138. 'pstratu-11'\n",
       "139. 'ao-10'\n",
       "140. 'nao-12'\n",
       "141. 'seu-12'\n",
       "142. 'scand-2'\n",
       "143. 'mjopc1a-12'\n",
       "\n",
       "\n"
      ],
      "text/plain": [
       "  [1] \"wpsh-11\"    \"wpsh-12\"    \"wpsh-1\"     \"wpsh-2\"     \"wpsh-5\"    \n",
       "  [6] \"iod-12\"     \"nin3-10\"    \"nin3-11\"    \"nin3-12\"    \"nin3-1\"    \n",
       " [11] \"nin3-2\"     \"seu-1\"      \"seu-2\"      \"seu-4\"      \"nao-10\"    \n",
       " [16] \"nao-11\"     \"nao-1\"      \"nao-3\"      \"nao-4\"      \"snao-2\"    \n",
       " [21] \"snao-4\"     \"scand-12\"   \"scand-1\"    \"ao-9\"       \"ao-11\"     \n",
       " [26] \"ao-12\"      \"ao-1\"       \"ao-3\"       \"cgt-1\"      \"cgt-3\"     \n",
       " [31] \"mjopc1a-10\" \"mjopc1a-11\" \"mjopc1a-5\"  \"mjopc1b-2\"  \"wpsh-3\"    \n",
       " [36] \"wpsh-4\"     \"iod-9\"      \"iod-10\"     \"iod-11\"     \"iod-1\"     \n",
       " [41] \"pdo-9\"      \"pdo-10\"     \"pdo-11\"     \"pdo-2\"      \"pdo-3\"     \n",
       " [46] \"nin3-9\"     \"nin3-3\"     \"snao-11\"    \"snao-5\"     \"ao-4\"      \n",
       " [51] \"eawr-11\"    \"eawr-12\"    \"eawr-2\"     \"eawr-5\"     \"pstratu-9\" \n",
       " [56] \"pstratu-10\" \"pstratu-3\"  \"pstratu-5\"  \"mjopc1a-9\"  \"mjopc1a-2\" \n",
       " [61] \"mjopc1b-9\"  \"mjopc1b-10\" \"mjopc1b-12\" \"mjopc1b-5\"  \"amo-4\"     \n",
       " [66] \"amo-5\"      \"pdo-1\"      \"pdo-4\"      \"pdo-5\"      \"seu-11\"    \n",
       " [71] \"seu-5\"      \"snao-9\"     \"scand-9\"    \"eawr-3\"     \"eawr-4\"    \n",
       " [76] \"peu-10\"     \"peu-11\"     \"pstratu-1\"  \"pstratu-2\"  \"mjopc1a-3\" \n",
       " [81] \"mjopc1b-3\"  \"nao-5\"      \"snao-12\"    \"scand-3\"    \"peu-1\"     \n",
       " [86] \"peu-5\"      \"amo-1\"      \"amo-2\"      \"amo-3\"      \"wpsh-9\"    \n",
       " [91] \"wpsh-10\"    \"iod-3\"      \"iod-4\"      \"nin3-4\"     \"nin3-5\"    \n",
       " [96] \"snao-3\"     \"scand-11\"   \"eawr-1\"     \"peu-2\"      \"cgt-5\"     \n",
       "[101] \"mjopc1a-4\"  \"mjopc1b-4\"  \"pdo-12\"     \"seu-3\"      \"peu-3\"     \n",
       "[106] \"cgt-11\"     \"cgt-2\"      \"amo-9\"      \"amo-10\"     \"amo-11\"    \n",
       "[111] \"amo-12\"     \"iod-5\"      \"cgt-9\"      \"seu-10\"     \"peu-12\"    \n",
       "[116] \"peu-4\"      \"cgt-10\"     \"mjopc1b-11\" \"snao-1\"     \"scand-10\"  \n",
       "[121] \"pstratu-4\"  \"iod-2\"      \"nao-9\"      \"nao-2\"      \"scand-5\"   \n",
       "[126] \"cgt-12\"     \"pstratu-12\" \"eawr-9\"     \"eawr-10\"    \"ao-5\"      \n",
       "[131] \"cgt-4\"      \"mjopc1a-1\"  \"mjopc1b-1\"  \"ao-2\"       \"seu-9\"     \n",
       "[136] \"scand-4\"    \"peu-9\"      \"pstratu-11\" \"ao-10\"      \"nao-12\"    \n",
       "[141] \"seu-12\"     \"scand-2\"    \"mjopc1a-12\""
      ]
     },
     "metadata": {},
     "output_type": "display_data"
    }
   ],
   "source": [
    "cindex_crit_names = colnames(cindex_anoms)[unique(which(abs(cindex_clust_cors) >= cor_crit, arr.ind=TRUE)[,1])]\n",
    "cindex_crit_names"
   ]
  },
  {
   "cell_type": "markdown",
   "id": "68df0f70-4761-4a29-a61e-0e8b6c1163f4",
   "metadata": {},
   "source": [
    "### Feature selection using random forests\n",
    "\n",
    "We use a random forest regression model from the Boruta package to robustly rank predictors in terms of their explanatory power with regards to the variance in regional temperatures.\n",
    "\n",
    "Random forests rank the explanatory power of features by their “importance”. Typically, there is no measure of statistical significance for feature importance, resulting in ambiguity about which values are robustly different from zero. Boruta implements a different approach, creating randomised “shadow” versions of each feature and using these as additional input features. After 1000 trials, we select features that give out-of-sample predictions which statistically outperform the best shadow feature at the 5% significance level.\n",
    "\n",
    "Here we use this to select the feature that has the maximum importance"
   ]
  },
  {
   "cell_type": "code",
   "execution_count": 16,
   "id": "822a5507-14e4-484f-9527-46b80f53da47",
   "metadata": {},
   "outputs": [],
   "source": [
    "x_train <- cindex_anoms[, cindex_crit_names]\n",
    "pcrit = 0.05"
   ]
  },
  {
   "cell_type": "code",
   "execution_count": 17,
   "id": "25f606f4-64eb-4b61-9f12-e809b59cfec5",
   "metadata": {},
   "outputs": [],
   "source": [
    "do_boruta_stuff_get_most_important <- function(df_in){\n",
    "    df_in  = data.frame(cbind(x_train, y_train)) \n",
    "    boruta_output <- Boruta(y_train ~ ., data=df_in, doTrace=0, maxRuns= 400, ntree=4000, pValue = 0.1)\n",
    "    confirmed_df <- attStats(boruta_output)[which(attStats(boruta_output)$decision == \"Confirmed\") ,]\n",
    "    return(rownames(confirmed_df[which.max(confirmed_df$meanImp),]))\n",
    "    }"
   ]
  },
  {
   "cell_type": "code",
   "execution_count": 18,
   "id": "c6df1f5d-31d7-4dcd-a0f6-5888f676b430",
   "metadata": {},
   "outputs": [],
   "source": [
    "empty_array = array(NA, c(length(colnames(clust_means)), 1))"
   ]
  },
  {
   "cell_type": "markdown",
   "id": "1f2000d8-e96a-487a-847d-7fb6f48a3906",
   "metadata": {},
   "source": [
    "Find the most important feature for each clustered region "
   ]
  },
  {
   "cell_type": "code",
   "execution_count": 19,
   "id": "48a06c6e-3e3b-49c0-a88a-538d7072df79",
   "metadata": {},
   "outputs": [],
   "source": [
    "for (k in 1:dim(clust_means)[2]) {\n",
    "    set.seed(1)\n",
    "    y_train <- clust_means[ ,k]\n",
    "    df_in  = data.frame(cbind(x_train, y_train)) \n",
    "    empty_array[k,] = do_boruta_stuff_get_most_important(df_in)\n",
    "    }"
   ]
  },
  {
   "cell_type": "markdown",
   "id": "04710ff6-a1c1-4833-86f6-b6fdf3669077",
   "metadata": {},
   "source": [
    "Selected predictors "
   ]
  },
  {
   "cell_type": "code",
   "execution_count": 20,
   "id": "3c7d314b-75d8-40a1-9785-3b2af1cbf5e5",
   "metadata": {},
   "outputs": [
    {
     "data": {
      "text/html": [
       "<table class=\"dataframe\">\n",
       "<caption>A matrix: 35 × 1 of type chr</caption>\n",
       "<tbody>\n",
       "\t<tr><td>nin3.1    </td></tr>\n",
       "\t<tr><td>mjopc1a.5 </td></tr>\n",
       "\t<tr><td>pdo.5     </td></tr>\n",
       "\t<tr><td>peu.1     </td></tr>\n",
       "\t<tr><td>nin3.5    </td></tr>\n",
       "\t<tr><td>pdo.5     </td></tr>\n",
       "\t<tr><td>nin3.5    </td></tr>\n",
       "\t<tr><td>nin3.12   </td></tr>\n",
       "\t<tr><td>nin3.5    </td></tr>\n",
       "\t<tr><td>peu.4     </td></tr>\n",
       "\t<tr><td>seu.3     </td></tr>\n",
       "\t<tr><td>mjopc1b.2 </td></tr>\n",
       "\t<tr><td>scand.10  </td></tr>\n",
       "\t<tr><td>pstratu.4 </td></tr>\n",
       "\t<tr><td>mjopc1a.4 </td></tr>\n",
       "\t<tr><td>nin3.4    </td></tr>\n",
       "\t<tr><td>nin3.5    </td></tr>\n",
       "\t<tr><td>wpsh.4    </td></tr>\n",
       "\t<tr><td>wpsh.4    </td></tr>\n",
       "\t<tr><td>nin3.10   </td></tr>\n",
       "\t<tr><td>scand.5   </td></tr>\n",
       "\t<tr><td>mjopc1b.5 </td></tr>\n",
       "\t<tr><td>seu.3     </td></tr>\n",
       "\t<tr><td>scand.1   </td></tr>\n",
       "\t<tr><td>wpsh.2    </td></tr>\n",
       "\t<tr><td>seu.5     </td></tr>\n",
       "\t<tr><td>peu.4     </td></tr>\n",
       "\t<tr><td>mjopc1a.5 </td></tr>\n",
       "\t<tr><td>pdo.11    </td></tr>\n",
       "\t<tr><td>wpsh.10   </td></tr>\n",
       "\t<tr><td>peu.5     </td></tr>\n",
       "\t<tr><td>peu.1     </td></tr>\n",
       "\t<tr><td>nin3.4    </td></tr>\n",
       "\t<tr><td>mjopc1b.9 </td></tr>\n",
       "\t<tr><td>mjopc1a.12</td></tr>\n",
       "</tbody>\n",
       "</table>\n"
      ],
      "text/latex": [
       "A matrix: 35 × 1 of type chr\n",
       "\\begin{tabular}{l}\n",
       "\t nin3.1    \\\\\n",
       "\t mjopc1a.5 \\\\\n",
       "\t pdo.5     \\\\\n",
       "\t peu.1     \\\\\n",
       "\t nin3.5    \\\\\n",
       "\t pdo.5     \\\\\n",
       "\t nin3.5    \\\\\n",
       "\t nin3.12   \\\\\n",
       "\t nin3.5    \\\\\n",
       "\t peu.4     \\\\\n",
       "\t seu.3     \\\\\n",
       "\t mjopc1b.2 \\\\\n",
       "\t scand.10  \\\\\n",
       "\t pstratu.4 \\\\\n",
       "\t mjopc1a.4 \\\\\n",
       "\t nin3.4    \\\\\n",
       "\t nin3.5    \\\\\n",
       "\t wpsh.4    \\\\\n",
       "\t wpsh.4    \\\\\n",
       "\t nin3.10   \\\\\n",
       "\t scand.5   \\\\\n",
       "\t mjopc1b.5 \\\\\n",
       "\t seu.3     \\\\\n",
       "\t scand.1   \\\\\n",
       "\t wpsh.2    \\\\\n",
       "\t seu.5     \\\\\n",
       "\t peu.4     \\\\\n",
       "\t mjopc1a.5 \\\\\n",
       "\t pdo.11    \\\\\n",
       "\t wpsh.10   \\\\\n",
       "\t peu.5     \\\\\n",
       "\t peu.1     \\\\\n",
       "\t nin3.4    \\\\\n",
       "\t mjopc1b.9 \\\\\n",
       "\t mjopc1a.12\\\\\n",
       "\\end{tabular}\n"
      ],
      "text/markdown": [
       "\n",
       "A matrix: 35 × 1 of type chr\n",
       "\n",
       "| nin3.1     |\n",
       "| mjopc1a.5  |\n",
       "| pdo.5      |\n",
       "| peu.1      |\n",
       "| nin3.5     |\n",
       "| pdo.5      |\n",
       "| nin3.5     |\n",
       "| nin3.12    |\n",
       "| nin3.5     |\n",
       "| peu.4      |\n",
       "| seu.3      |\n",
       "| mjopc1b.2  |\n",
       "| scand.10   |\n",
       "| pstratu.4  |\n",
       "| mjopc1a.4  |\n",
       "| nin3.4     |\n",
       "| nin3.5     |\n",
       "| wpsh.4     |\n",
       "| wpsh.4     |\n",
       "| nin3.10    |\n",
       "| scand.5    |\n",
       "| mjopc1b.5  |\n",
       "| seu.3      |\n",
       "| scand.1    |\n",
       "| wpsh.2     |\n",
       "| seu.5      |\n",
       "| peu.4      |\n",
       "| mjopc1a.5  |\n",
       "| pdo.11     |\n",
       "| wpsh.10    |\n",
       "| peu.5      |\n",
       "| peu.1      |\n",
       "| nin3.4     |\n",
       "| mjopc1b.9  |\n",
       "| mjopc1a.12 |\n",
       "\n"
      ],
      "text/plain": [
       "      [,1]      \n",
       " [1,] nin3.1    \n",
       " [2,] mjopc1a.5 \n",
       " [3,] pdo.5     \n",
       " [4,] peu.1     \n",
       " [5,] nin3.5    \n",
       " [6,] pdo.5     \n",
       " [7,] nin3.5    \n",
       " [8,] nin3.12   \n",
       " [9,] nin3.5    \n",
       "[10,] peu.4     \n",
       "[11,] seu.3     \n",
       "[12,] mjopc1b.2 \n",
       "[13,] scand.10  \n",
       "[14,] pstratu.4 \n",
       "[15,] mjopc1a.4 \n",
       "[16,] nin3.4    \n",
       "[17,] nin3.5    \n",
       "[18,] wpsh.4    \n",
       "[19,] wpsh.4    \n",
       "[20,] nin3.10   \n",
       "[21,] scand.5   \n",
       "[22,] mjopc1b.5 \n",
       "[23,] seu.3     \n",
       "[24,] scand.1   \n",
       "[25,] wpsh.2    \n",
       "[26,] seu.5     \n",
       "[27,] peu.4     \n",
       "[28,] mjopc1a.5 \n",
       "[29,] pdo.11    \n",
       "[30,] wpsh.10   \n",
       "[31,] peu.5     \n",
       "[32,] peu.1     \n",
       "[33,] nin3.4    \n",
       "[34,] mjopc1b.9 \n",
       "[35,] mjopc1a.12"
      ]
     },
     "metadata": {},
     "output_type": "display_data"
    }
   ],
   "source": [
    "empty_array"
   ]
  },
  {
   "cell_type": "markdown",
   "id": "9897b6f7-cc94-410c-8902-7318ad67e232",
   "metadata": {},
   "source": [
    "Save selected predictors "
   ]
  },
  {
   "cell_type": "code",
   "execution_count": 21,
   "id": "63a4972f-83fc-47ed-80e8-9e14f8cc3412",
   "metadata": {},
   "outputs": [],
   "source": [
    "write.csv(empty_array, \"../data/csv/predictors_for_clusters_k35_ward.csv\", row.names=FALSE)\n"
   ]
  },
  {
   "cell_type": "code",
   "execution_count": null,
   "id": "94659735-68d6-40bc-aeed-bfda96ca9599",
   "metadata": {},
   "outputs": [],
   "source": []
  }
 ],
 "metadata": {
  "kernelspec": {
   "display_name": "R-3.6.3",
   "language": "R",
   "name": "ir363"
  },
  "language_info": {
   "codemirror_mode": "r",
   "file_extension": ".r",
   "mimetype": "text/x-r-source",
   "name": "R",
   "pygments_lexer": "r",
   "version": "3.6.3"
  }
 },
 "nbformat": 4,
 "nbformat_minor": 5
}
