{
 "cells": [
  {
   "cell_type": "markdown",
   "id": "27063b03-416e-4f5a-abb2-c3307c5fc0fd",
   "metadata": {},
   "source": [
    "# Demonstration notebook for processing new climate indices \n",
    "\n",
    "* This example shows creation of the Circumglobal Teleconnection, defined in [Beverley, J.D., Woolnough, S.J., Baker, L.H. et al](https://link.springer.com/article/10.1007/s00382-018-4371-4#Sec1 )\n",
    "* We used the area 35–40N, 60–70E of 200 hPa Ge"
   ]
  },
  {
   "cell_type": "code",
   "execution_count": null,
   "id": "d81dab9d-6902-4923-8043-7f671dd119ae",
   "metadata": {},
   "outputs": [],
   "source": [
    "import iris \n",
    "import iris.coord_categorisation\n",
    "import iris.quickplot as qplt\n",
    "import matplotlib.pyplot as plt\n",
    "import iris.pandas\n",
    "import pandas as pd"
   ]
  }
 ],
 "metadata": {
  "kernelspec": {
   "display_name": "tigra_v5_pt2",
   "language": "python",
   "name": "tigra_v5_pt2"
  },
  "language_info": {
   "codemirror_mode": {
    "name": "ipython",
    "version": 3
   },
   "file_extension": ".py",
   "mimetype": "text/x-python",
   "name": "python",
   "nbconvert_exporter": "python",
   "pygments_lexer": "ipython3",
   "version": "3.10.4"
  }
 },
 "nbformat": 4,
 "nbformat_minor": 5
}
